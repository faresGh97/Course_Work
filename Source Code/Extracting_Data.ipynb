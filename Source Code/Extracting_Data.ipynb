{
  "nbformat": 4,
  "nbformat_minor": 0,
  "metadata": {
    "colab": {
      "provenance": [],
      "collapsed_sections": [
        "oZCvDHVz56gm",
        "rOvgz4dMSise",
        "SCuQnJZO9tiE",
        "vz7-wy9pSnp1",
        "_Foo6w9vBm2C",
        "uH7JAxuC8t7m",
        "0-SNASzGxyd1",
        "Fy12PCxW6mCs",
        "K4wZ-8qzUVvJ",
        "9Xyn491IV1YS",
        "UasLLo8lbfhx",
        "aV6r2-48uOk5",
        "A-5fsr6WbfLA",
        "CbbzgBqsfOBS",
        "4ea6yQ7mempd",
        "CUEJMkCqwB1N"
      ]
    },
    "kernelspec": {
      "name": "python3",
      "display_name": "Python 3"
    },
    "language_info": {
      "name": "python"
    }
  },
  "cells": [
    {
      "cell_type": "code",
      "source": [
        "import requests\n",
        "import json\n",
        "import pandas as pd"
      ],
      "metadata": {
        "id": "H_44ggtPcrzn"
      },
      "execution_count": 4,
      "outputs": []
    },
    {
      "cell_type": "markdown",
      "source": [
        "###Definig the Function to extract data"
      ],
      "metadata": {
        "id": "oZCvDHVz56gm"
      }
    },
    {
      "cell_type": "code",
      "source": [
        "def Extract_data (query,tablename):\n",
        "  # old URL\n",
        "  url = 'https://api.thegraph.com/subgraphs/name/uniswap/uniswap-v3'\n",
        "  # new URL / after the update \n",
        "  #url = 'https://api.thegraph.com/subgraphs/name/ianlapham/v3-minimal'\n",
        "  frames = []\n",
        "  for i in range(0,5000,100):\n",
        "    tmp_query = query%(i)\n",
        "    r = requests.post(url, json={'query': tmp_query})\n",
        "    json_data = json.loads(r.text)\n",
        "    try:\n",
        "      df_data = json_data['data'][tablename]\n",
        "      df = pd.DataFrame(df_data)\n",
        "      frames.append(df)\n",
        "    except KeyError:\n",
        "      break\n",
        "\n",
        "  result = pd.concat(frames)\n",
        "  return result\n",
        "\n"
      ],
      "metadata": {
        "id": "URejKI87QjK1"
      },
      "execution_count": 40,
      "outputs": []
    },
    {
      "cell_type": "markdown",
      "source": [
        "#### General Variables"
      ],
      "metadata": {
        "id": "ArpxCZMM-I_1"
      }
    },
    {
      "cell_type": "code",
      "source": [
        "# these token_ids_can be extracted from Token.csv using :uni_id  = token_pd[token_pd[\"symbol\"] == \"<symbole of Token>\"].iloc[0, 0]\n",
        "token_usdc_id = \"0xa0b86991c6218b36c1d19d4a2e9eb0ce3606eb48\"\n",
        "token_weth_id = \"0xc02aaa39b223fe8d0a0e5c4f27ead9083c756cc2\"\n",
        "token_wbtc_id = \"0x2260fac5e5542a773aa44fbcfedf7c193bc2c599\"\n",
        "token_uni_id = \"0x1f9840a85d5af5bf1d1762f925bdaddc4201f984\"\n",
        "token_dai_id = \"0x6b175474e89094c44da98b954eedeac495271d0f\""
      ],
      "metadata": {
        "id": "K5e4fLcJ-ILg"
      },
      "execution_count": 41,
      "outputs": []
    },
    {
      "cell_type": "code",
      "source": [
        "# these token_ids_can be extracted from Pool.csv using :UNI_WETH_3000_id  = pool_df[(pool_df[\"token0\"] == \"UNI\") & (pool_df[\"token1\"] == \"WETH\") & (pool_df[\"feeTier\"] == '3000')].iloc[0, 0]\n",
        "dai_usdc100_id = \"0x5777d92f208679db4b9778590fa3cab3ac9e2168\"\n",
        "usdc_WETH_3000_id = \"0x8ad599c3a0ff1de082011efddc58f1908eb6e6d8\"\n",
        "wbtc_WETH_3000_id = \"0xcbcdf9626bc03e24f779434178a73a0b4bad62ed\"\n",
        "UNI_WETH_3000_id = \"0x1d42064fc4beb5f8aaf85f4617ae8b3b5b8bd801\""
      ],
      "metadata": {
        "id": "gw8hJMRtOCc9"
      },
      "execution_count": 1,
      "outputs": []
    },
    {
      "cell_type": "markdown",
      "source": [
        "### Extracting Data"
      ],
      "metadata": {
        "id": "x-JcX0ZgT-SO"
      }
    },
    {
      "cell_type": "markdown",
      "source": [
        "#### Extracting Tokens"
      ],
      "metadata": {
        "id": "rOvgz4dMSise"
      }
    },
    {
      "cell_type": "code",
      "source": [
        "#uncomment to see the old code \n",
        "# query = \"\"\"\n",
        "#  query {\n",
        "#   tokens(orderBy : derivedETH , orderDirection: desc , skip : %d)\n",
        "#   {\n",
        "#     id\n",
        "#     symbol\n",
        "#     name\n",
        "#     decimals\n",
        "#     totalSupply\n",
        "#     volume\n",
        "#     volumeUSD\n",
        "#     untrackedVolumeUSD\n",
        "#     feesUSD\n",
        "#     txCount\n",
        "#     poolCount\n",
        "#     totalValueLocked\n",
        "#     totalValueLockedUSD\n",
        "#     totalValueLockedUSDUntracked\n",
        "#     derivedETH\n",
        "#   }\n",
        "# }\n",
        "# \"\"\"\n",
        "\n",
        "query = \"\"\"\n",
        "query {\n",
        "  tokens (orderBy:totalValueLockedUSD , orderDirection: desc , skip: %d){\n",
        "    id\n",
        "    symbol\n",
        "    name\n",
        "    decimals\n",
        "    totalSupply\n",
        "    volume\n",
        "    volumeUSD\n",
        "    volumeUSDUntracked\n",
        "    feesUSD\n",
        "    txCount\n",
        "    poolCount\n",
        "    totalValueLocked\n",
        "    totalValueLockedUSD\n",
        "    derivedETH\n",
        "  }\n",
        "}\n",
        "\"\"\"\n"
      ],
      "metadata": {
        "id": "UnLBprYcRLcC"
      },
      "execution_count": 35,
      "outputs": []
    },
    {
      "cell_type": "code",
      "source": [
        " tdf = Extract_data(query, \"tokens\")\n",
        " tdf.info()"
      ],
      "metadata": {
        "colab": {
          "base_uri": "https://localhost:8080/"
        },
        "id": "MIds3ZfwQ-3X",
        "outputId": "6c71f826-9928-4eab-a3da-7fc6e8e8e2d2"
      },
      "execution_count": 36,
      "outputs": [
        {
          "output_type": "stream",
          "name": "stdout",
          "text": [
            "<class 'pandas.core.frame.DataFrame'>\n",
            "Int64Index: 5000 entries, 0 to 99\n",
            "Data columns (total 14 columns):\n",
            " #   Column               Non-Null Count  Dtype \n",
            "---  ------               --------------  ----- \n",
            " 0   id                   5000 non-null   object\n",
            " 1   symbol               5000 non-null   object\n",
            " 2   name                 5000 non-null   object\n",
            " 3   decimals             5000 non-null   object\n",
            " 4   totalSupply          5000 non-null   object\n",
            " 5   volume               5000 non-null   object\n",
            " 6   volumeUSD            5000 non-null   object\n",
            " 7   volumeUSDUntracked   5000 non-null   object\n",
            " 8   feesUSD              5000 non-null   object\n",
            " 9   txCount              5000 non-null   object\n",
            " 10  poolCount            5000 non-null   object\n",
            " 11  totalValueLocked     5000 non-null   object\n",
            " 12  totalValueLockedUSD  5000 non-null   object\n",
            " 13  derivedETH           5000 non-null   object\n",
            "dtypes: object(14)\n",
            "memory usage: 585.9+ KB\n"
          ]
        }
      ]
    },
    {
      "cell_type": "code",
      "source": [
        "tdf.to_csv('Token.csv',index=False)"
      ],
      "metadata": {
        "id": "l9wke5J2Sd8S"
      },
      "execution_count": 37,
      "outputs": []
    },
    {
      "cell_type": "markdown",
      "source": [
        "#### Extracting TokenDayDatas"
      ],
      "metadata": {
        "id": "SCuQnJZO9tiE"
      }
    },
    {
      "cell_type": "code",
      "source": [
        "def Extracting_Token_day_data (token_id):\n",
        "  #old URL\n",
        "  #url = 'https://api.thegraph.com/subgraphs/name/uniswap/uniswap-v3'\n",
        "  # new URL / after the update \n",
        "  url = 'https://api.thegraph.com/subgraphs/name/ianlapham/v3-minimal'\n",
        "  frames = []\n",
        "  query = \"\"\"query {\n",
        "  tokenDayDatas (where : {token: \"%s\"}, orderBy: date, orderDirection: desc, skip:%d)\n",
        "  {\n",
        "    date\n",
        "    volumeUSD\n",
        "    totalValueLockedUSD\n",
        "    priceUSD\n",
        "    feesUSD\n",
        "    open\n",
        "    high\n",
        "    low\n",
        "    close\n",
        "  }\n",
        "}\"\"\"\n",
        "  for i in range(0,5000,100):\n",
        "    tmp_query = query%(token_id,i)\n",
        "    r = requests.post(url, json={'query': tmp_query})\n",
        "    json_data = json.loads(r.text)\n",
        "    try:\n",
        "      df_data = json_data['data'][\"tokenDayDatas\"]\n",
        "      df = pd.DataFrame(df_data)\n",
        "      frames.append(df)\n",
        "    except KeyError:\n",
        "      break\n",
        "\n",
        "  result = pd.concat(frames)\n",
        "  result['date'] = pd.to_datetime(result['date'], unit='s')\n",
        "  result[[\"volumeUSD\",\"totalValueLockedUSD\",\"feesUSD\",\"priceUSD\",\"open\",\"high\",\"low\",\"close\"]] = result[[\"volumeUSD\",\"totalValueLockedUSD\",\"feesUSD\",\"priceUSD\",\"open\",\"high\",\"low\",\"close\"]].apply(pd.to_numeric)\n",
        "  result ['token_id'] = token_id\n",
        "  return result\n"
      ],
      "metadata": {
        "id": "Dhvsd2JF9qRv"
      },
      "execution_count": null,
      "outputs": []
    },
    {
      "cell_type": "code",
      "source": [
        "USD_pd = Extracting_Token_day_data(token_usdc_id)\n",
        "USD_pd.info()"
      ],
      "metadata": {
        "colab": {
          "base_uri": "https://localhost:8080/"
        },
        "id": "Bv18rfJI-AnI",
        "outputId": "20853ec9-1d62-4e0c-f53b-4e58f94d1f50"
      },
      "execution_count": null,
      "outputs": [
        {
          "output_type": "stream",
          "name": "stdout",
          "text": [
            "<class 'pandas.core.frame.DataFrame'>\n",
            "Int64Index: 508 entries, 0 to 7\n",
            "Data columns (total 10 columns):\n",
            " #   Column               Non-Null Count  Dtype         \n",
            "---  ------               --------------  -----         \n",
            " 0   date                 508 non-null    datetime64[ns]\n",
            " 1   volumeUSD            508 non-null    float64       \n",
            " 2   totalValueLockedUSD  508 non-null    float64       \n",
            " 3   priceUSD             508 non-null    float64       \n",
            " 4   feesUSD              508 non-null    float64       \n",
            " 5   open                 508 non-null    float64       \n",
            " 6   high                 508 non-null    float64       \n",
            " 7   low                  508 non-null    float64       \n",
            " 8   close                508 non-null    float64       \n",
            " 9   token_id             508 non-null    object        \n",
            "dtypes: datetime64[ns](1), float64(8), object(1)\n",
            "memory usage: 43.7+ KB\n"
          ]
        }
      ]
    },
    {
      "cell_type": "code",
      "source": [
        "ether_pd = Extracting_Token_day_data(token_weth_id)\n",
        "ether_pd.info()"
      ],
      "metadata": {
        "colab": {
          "base_uri": "https://localhost:8080/"
        },
        "id": "eD1Lb1WL-8fm",
        "outputId": "7b2bf17b-a0df-4c85-96d3-b5d667b354a5"
      },
      "execution_count": null,
      "outputs": [
        {
          "output_type": "stream",
          "name": "stdout",
          "text": [
            "<class 'pandas.core.frame.DataFrame'>\n",
            "Int64Index: 508 entries, 0 to 7\n",
            "Data columns (total 10 columns):\n",
            " #   Column               Non-Null Count  Dtype         \n",
            "---  ------               --------------  -----         \n",
            " 0   date                 508 non-null    datetime64[ns]\n",
            " 1   volumeUSD            508 non-null    float64       \n",
            " 2   totalValueLockedUSD  508 non-null    float64       \n",
            " 3   priceUSD             508 non-null    float64       \n",
            " 4   feesUSD              508 non-null    float64       \n",
            " 5   open                 508 non-null    float64       \n",
            " 6   high                 508 non-null    float64       \n",
            " 7   low                  508 non-null    float64       \n",
            " 8   close                508 non-null    float64       \n",
            " 9   token_id             508 non-null    object        \n",
            "dtypes: datetime64[ns](1), float64(8), object(1)\n",
            "memory usage: 43.7+ KB\n"
          ]
        }
      ]
    },
    {
      "cell_type": "code",
      "source": [
        "bit_pd = Extracting_Token_day_data(token_wbtc_id)\n",
        "bit_pd.info()"
      ],
      "metadata": {
        "colab": {
          "base_uri": "https://localhost:8080/"
        },
        "id": "U96TyomS_RD9",
        "outputId": "f593e97a-c48b-4833-a395-6e2815958b17"
      },
      "execution_count": null,
      "outputs": [
        {
          "output_type": "stream",
          "name": "stdout",
          "text": [
            "<class 'pandas.core.frame.DataFrame'>\n",
            "Int64Index: 508 entries, 0 to 7\n",
            "Data columns (total 10 columns):\n",
            " #   Column               Non-Null Count  Dtype         \n",
            "---  ------               --------------  -----         \n",
            " 0   date                 508 non-null    datetime64[ns]\n",
            " 1   volumeUSD            508 non-null    float64       \n",
            " 2   totalValueLockedUSD  508 non-null    float64       \n",
            " 3   priceUSD             508 non-null    float64       \n",
            " 4   feesUSD              508 non-null    float64       \n",
            " 5   open                 508 non-null    float64       \n",
            " 6   high                 508 non-null    float64       \n",
            " 7   low                  508 non-null    float64       \n",
            " 8   close                508 non-null    float64       \n",
            " 9   token_id             508 non-null    object        \n",
            "dtypes: datetime64[ns](1), float64(8), object(1)\n",
            "memory usage: 43.7+ KB\n"
          ]
        }
      ]
    },
    {
      "cell_type": "code",
      "source": [
        "uni_pd = Extracting_Token_day_data(token_uni_id)\n",
        "uni_pd.info()"
      ],
      "metadata": {
        "colab": {
          "base_uri": "https://localhost:8080/",
          "height": 183
        },
        "id": "2p8c0Ox1_vvT",
        "outputId": "233336ab-11e6-4040-c7e2-43639fb0f0f3"
      },
      "execution_count": 29,
      "outputs": [
        {
          "output_type": "error",
          "ename": "NameError",
          "evalue": "ignored",
          "traceback": [
            "\u001b[0;31m---------------------------------------------------------------------------\u001b[0m",
            "\u001b[0;31mNameError\u001b[0m                                 Traceback (most recent call last)",
            "\u001b[0;32m<ipython-input-29-36c6e8d63782>\u001b[0m in \u001b[0;36m<module>\u001b[0;34m\u001b[0m\n\u001b[0;32m----> 1\u001b[0;31m \u001b[0muni_pd\u001b[0m \u001b[0;34m=\u001b[0m \u001b[0mExtracting_Token_day_data\u001b[0m\u001b[0;34m(\u001b[0m\u001b[0mtoken_uni_id\u001b[0m\u001b[0;34m)\u001b[0m\u001b[0;34m\u001b[0m\u001b[0;34m\u001b[0m\u001b[0m\n\u001b[0m\u001b[1;32m      2\u001b[0m \u001b[0muni_pd\u001b[0m\u001b[0;34m.\u001b[0m\u001b[0minfo\u001b[0m\u001b[0;34m(\u001b[0m\u001b[0;34m)\u001b[0m\u001b[0;34m\u001b[0m\u001b[0;34m\u001b[0m\u001b[0m\n",
            "\u001b[0;31mNameError\u001b[0m: name 'Extracting_Token_day_data' is not defined"
          ]
        }
      ]
    },
    {
      "cell_type": "code",
      "source": [
        "dai_pd = Extracting_Token_day_data(token_dai_id)\n",
        "dai_pd.info()"
      ],
      "metadata": {
        "colab": {
          "base_uri": "https://localhost:8080/"
        },
        "id": "ITwJcnUM_7bJ",
        "outputId": "f659b90a-8d9b-43d5-adb8-f95ef68f9cdc"
      },
      "execution_count": null,
      "outputs": [
        {
          "output_type": "stream",
          "name": "stdout",
          "text": [
            "<class 'pandas.core.frame.DataFrame'>\n",
            "Int64Index: 508 entries, 0 to 7\n",
            "Data columns (total 10 columns):\n",
            " #   Column               Non-Null Count  Dtype         \n",
            "---  ------               --------------  -----         \n",
            " 0   date                 508 non-null    datetime64[ns]\n",
            " 1   volumeUSD            508 non-null    float64       \n",
            " 2   totalValueLockedUSD  508 non-null    float64       \n",
            " 3   priceUSD             508 non-null    float64       \n",
            " 4   feesUSD              508 non-null    float64       \n",
            " 5   open                 508 non-null    float64       \n",
            " 6   high                 508 non-null    float64       \n",
            " 7   low                  508 non-null    float64       \n",
            " 8   close                508 non-null    float64       \n",
            " 9   token_id             508 non-null    object        \n",
            "dtypes: datetime64[ns](1), float64(8), object(1)\n",
            "memory usage: 43.7+ KB\n"
          ]
        }
      ]
    },
    {
      "cell_type": "code",
      "source": [
        "result = pd.concat([dai_pd,uni_pd,bit_pd,ether_pd,USD_pd])\n",
        "result.info()"
      ],
      "metadata": {
        "colab": {
          "base_uri": "https://localhost:8080/"
        },
        "id": "nQRXvYfPAeQ4",
        "outputId": "f5bf80bf-e2dc-40d8-d3e3-42020ef7cd91"
      },
      "execution_count": null,
      "outputs": [
        {
          "output_type": "stream",
          "name": "stdout",
          "text": [
            "<class 'pandas.core.frame.DataFrame'>\n",
            "Int64Index: 2540 entries, 0 to 7\n",
            "Data columns (total 10 columns):\n",
            " #   Column               Non-Null Count  Dtype         \n",
            "---  ------               --------------  -----         \n",
            " 0   date                 2540 non-null   datetime64[ns]\n",
            " 1   volumeUSD            2540 non-null   float64       \n",
            " 2   totalValueLockedUSD  2540 non-null   float64       \n",
            " 3   priceUSD             2540 non-null   float64       \n",
            " 4   feesUSD              2540 non-null   float64       \n",
            " 5   open                 2540 non-null   float64       \n",
            " 6   high                 2540 non-null   float64       \n",
            " 7   low                  2540 non-null   float64       \n",
            " 8   close                2540 non-null   float64       \n",
            " 9   token_id             2540 non-null   object        \n",
            "dtypes: datetime64[ns](1), float64(8), object(1)\n",
            "memory usage: 218.3+ KB\n"
          ]
        }
      ]
    },
    {
      "cell_type": "code",
      "source": [
        "result.head()"
      ],
      "metadata": {
        "colab": {
          "base_uri": "https://localhost:8080/",
          "height": 206
        },
        "id": "pgKRfclPkUI7",
        "outputId": "1e1762cc-b3f2-456f-e6f7-d7cf4ac3e896"
      },
      "execution_count": null,
      "outputs": [
        {
          "output_type": "execute_result",
          "data": {
            "text/plain": [
              "        date     volumeUSD  totalValueLockedUSD  priceUSD       feesUSD  open  \\\n",
              "0 2022-09-23  3.408121e+07         8.074883e+08       1.0  39890.651449   1.0   \n",
              "1 2022-09-22  4.704904e+07         8.074820e+08       1.0  47731.178525   1.0   \n",
              "2 2022-09-21  7.963730e+07         7.581289e+08       1.0  83007.763601   1.0   \n",
              "3 2022-09-20  5.444140e+07         7.840144e+08       1.0  42722.396633   1.0   \n",
              "4 2022-09-19  6.864848e+07         7.861788e+08       1.0  43798.212720   1.0   \n",
              "\n",
              "       high       low  close                                    token_id  \n",
              "0  1.000556  0.999754    1.0  0x6b175474e89094c44da98b954eedeac495271d0f  \n",
              "1  1.001763  0.999608    1.0  0x6b175474e89094c44da98b954eedeac495271d0f  \n",
              "2  1.001563  0.998301    1.0  0x6b175474e89094c44da98b954eedeac495271d0f  \n",
              "3  1.001037  0.999601    1.0  0x6b175474e89094c44da98b954eedeac495271d0f  \n",
              "4  1.000530  0.999249    1.0  0x6b175474e89094c44da98b954eedeac495271d0f  "
            ],
            "text/html": [
              "\n",
              "  <div id=\"df-219ae854-2186-49a7-bcf7-fe6e5eee6b85\">\n",
              "    <div class=\"colab-df-container\">\n",
              "      <div>\n",
              "<style scoped>\n",
              "    .dataframe tbody tr th:only-of-type {\n",
              "        vertical-align: middle;\n",
              "    }\n",
              "\n",
              "    .dataframe tbody tr th {\n",
              "        vertical-align: top;\n",
              "    }\n",
              "\n",
              "    .dataframe thead th {\n",
              "        text-align: right;\n",
              "    }\n",
              "</style>\n",
              "<table border=\"1\" class=\"dataframe\">\n",
              "  <thead>\n",
              "    <tr style=\"text-align: right;\">\n",
              "      <th></th>\n",
              "      <th>date</th>\n",
              "      <th>volumeUSD</th>\n",
              "      <th>totalValueLockedUSD</th>\n",
              "      <th>priceUSD</th>\n",
              "      <th>feesUSD</th>\n",
              "      <th>open</th>\n",
              "      <th>high</th>\n",
              "      <th>low</th>\n",
              "      <th>close</th>\n",
              "      <th>token_id</th>\n",
              "    </tr>\n",
              "  </thead>\n",
              "  <tbody>\n",
              "    <tr>\n",
              "      <th>0</th>\n",
              "      <td>2022-09-23</td>\n",
              "      <td>3.408121e+07</td>\n",
              "      <td>8.074883e+08</td>\n",
              "      <td>1.0</td>\n",
              "      <td>39890.651449</td>\n",
              "      <td>1.0</td>\n",
              "      <td>1.000556</td>\n",
              "      <td>0.999754</td>\n",
              "      <td>1.0</td>\n",
              "      <td>0x6b175474e89094c44da98b954eedeac495271d0f</td>\n",
              "    </tr>\n",
              "    <tr>\n",
              "      <th>1</th>\n",
              "      <td>2022-09-22</td>\n",
              "      <td>4.704904e+07</td>\n",
              "      <td>8.074820e+08</td>\n",
              "      <td>1.0</td>\n",
              "      <td>47731.178525</td>\n",
              "      <td>1.0</td>\n",
              "      <td>1.001763</td>\n",
              "      <td>0.999608</td>\n",
              "      <td>1.0</td>\n",
              "      <td>0x6b175474e89094c44da98b954eedeac495271d0f</td>\n",
              "    </tr>\n",
              "    <tr>\n",
              "      <th>2</th>\n",
              "      <td>2022-09-21</td>\n",
              "      <td>7.963730e+07</td>\n",
              "      <td>7.581289e+08</td>\n",
              "      <td>1.0</td>\n",
              "      <td>83007.763601</td>\n",
              "      <td>1.0</td>\n",
              "      <td>1.001563</td>\n",
              "      <td>0.998301</td>\n",
              "      <td>1.0</td>\n",
              "      <td>0x6b175474e89094c44da98b954eedeac495271d0f</td>\n",
              "    </tr>\n",
              "    <tr>\n",
              "      <th>3</th>\n",
              "      <td>2022-09-20</td>\n",
              "      <td>5.444140e+07</td>\n",
              "      <td>7.840144e+08</td>\n",
              "      <td>1.0</td>\n",
              "      <td>42722.396633</td>\n",
              "      <td>1.0</td>\n",
              "      <td>1.001037</td>\n",
              "      <td>0.999601</td>\n",
              "      <td>1.0</td>\n",
              "      <td>0x6b175474e89094c44da98b954eedeac495271d0f</td>\n",
              "    </tr>\n",
              "    <tr>\n",
              "      <th>4</th>\n",
              "      <td>2022-09-19</td>\n",
              "      <td>6.864848e+07</td>\n",
              "      <td>7.861788e+08</td>\n",
              "      <td>1.0</td>\n",
              "      <td>43798.212720</td>\n",
              "      <td>1.0</td>\n",
              "      <td>1.000530</td>\n",
              "      <td>0.999249</td>\n",
              "      <td>1.0</td>\n",
              "      <td>0x6b175474e89094c44da98b954eedeac495271d0f</td>\n",
              "    </tr>\n",
              "  </tbody>\n",
              "</table>\n",
              "</div>\n",
              "      <button class=\"colab-df-convert\" onclick=\"convertToInteractive('df-219ae854-2186-49a7-bcf7-fe6e5eee6b85')\"\n",
              "              title=\"Convert this dataframe to an interactive table.\"\n",
              "              style=\"display:none;\">\n",
              "        \n",
              "  <svg xmlns=\"http://www.w3.org/2000/svg\" height=\"24px\"viewBox=\"0 0 24 24\"\n",
              "       width=\"24px\">\n",
              "    <path d=\"M0 0h24v24H0V0z\" fill=\"none\"/>\n",
              "    <path d=\"M18.56 5.44l.94 2.06.94-2.06 2.06-.94-2.06-.94-.94-2.06-.94 2.06-2.06.94zm-11 1L8.5 8.5l.94-2.06 2.06-.94-2.06-.94L8.5 2.5l-.94 2.06-2.06.94zm10 10l.94 2.06.94-2.06 2.06-.94-2.06-.94-.94-2.06-.94 2.06-2.06.94z\"/><path d=\"M17.41 7.96l-1.37-1.37c-.4-.4-.92-.59-1.43-.59-.52 0-1.04.2-1.43.59L10.3 9.45l-7.72 7.72c-.78.78-.78 2.05 0 2.83L4 21.41c.39.39.9.59 1.41.59.51 0 1.02-.2 1.41-.59l7.78-7.78 2.81-2.81c.8-.78.8-2.07 0-2.86zM5.41 20L4 18.59l7.72-7.72 1.47 1.35L5.41 20z\"/>\n",
              "  </svg>\n",
              "      </button>\n",
              "      \n",
              "  <style>\n",
              "    .colab-df-container {\n",
              "      display:flex;\n",
              "      flex-wrap:wrap;\n",
              "      gap: 12px;\n",
              "    }\n",
              "\n",
              "    .colab-df-convert {\n",
              "      background-color: #E8F0FE;\n",
              "      border: none;\n",
              "      border-radius: 50%;\n",
              "      cursor: pointer;\n",
              "      display: none;\n",
              "      fill: #1967D2;\n",
              "      height: 32px;\n",
              "      padding: 0 0 0 0;\n",
              "      width: 32px;\n",
              "    }\n",
              "\n",
              "    .colab-df-convert:hover {\n",
              "      background-color: #E2EBFA;\n",
              "      box-shadow: 0px 1px 2px rgba(60, 64, 67, 0.3), 0px 1px 3px 1px rgba(60, 64, 67, 0.15);\n",
              "      fill: #174EA6;\n",
              "    }\n",
              "\n",
              "    [theme=dark] .colab-df-convert {\n",
              "      background-color: #3B4455;\n",
              "      fill: #D2E3FC;\n",
              "    }\n",
              "\n",
              "    [theme=dark] .colab-df-convert:hover {\n",
              "      background-color: #434B5C;\n",
              "      box-shadow: 0px 1px 3px 1px rgba(0, 0, 0, 0.15);\n",
              "      filter: drop-shadow(0px 1px 2px rgba(0, 0, 0, 0.3));\n",
              "      fill: #FFFFFF;\n",
              "    }\n",
              "  </style>\n",
              "\n",
              "      <script>\n",
              "        const buttonEl =\n",
              "          document.querySelector('#df-219ae854-2186-49a7-bcf7-fe6e5eee6b85 button.colab-df-convert');\n",
              "        buttonEl.style.display =\n",
              "          google.colab.kernel.accessAllowed ? 'block' : 'none';\n",
              "\n",
              "        async function convertToInteractive(key) {\n",
              "          const element = document.querySelector('#df-219ae854-2186-49a7-bcf7-fe6e5eee6b85');\n",
              "          const dataTable =\n",
              "            await google.colab.kernel.invokeFunction('convertToInteractive',\n",
              "                                                     [key], {});\n",
              "          if (!dataTable) return;\n",
              "\n",
              "          const docLinkHtml = 'Like what you see? Visit the ' +\n",
              "            '<a target=\"_blank\" href=https://colab.research.google.com/notebooks/data_table.ipynb>data table notebook</a>'\n",
              "            + ' to learn more about interactive tables.';\n",
              "          element.innerHTML = '';\n",
              "          dataTable['output_type'] = 'display_data';\n",
              "          await google.colab.output.renderOutput(dataTable, element);\n",
              "          const docLink = document.createElement('div');\n",
              "          docLink.innerHTML = docLinkHtml;\n",
              "          element.appendChild(docLink);\n",
              "        }\n",
              "      </script>\n",
              "    </div>\n",
              "  </div>\n",
              "  "
            ]
          },
          "metadata": {},
          "execution_count": 138
        }
      ]
    },
    {
      "cell_type": "code",
      "source": [
        "result.to_csv('TokenDayDatas.csv',index=False)"
      ],
      "metadata": {
        "id": "44NpWzHeAwCh"
      },
      "execution_count": null,
      "outputs": []
    },
    {
      "cell_type": "markdown",
      "source": [
        "####Extracting Pools"
      ],
      "metadata": {
        "id": "vz7-wy9pSnp1"
      }
    },
    {
      "cell_type": "code",
      "source": [
        "query = \"\"\"\n",
        " query {\n",
        "  pools (orderBy: totalValueLockedUSD , orderDirection: desc , skip : %d) {\n",
        "    id\n",
        "    totalValueLockedUSD\n",
        "    token0 {\n",
        "      symbol\n",
        "    }\n",
        "    token1 {\n",
        "      symbol\n",
        "    }\n",
        "    \n",
        "    feeTier\n",
        "    volumeUSD\n",
        "    liquidity\n",
        "    token0Price\n",
        "    token1Price\n",
        "    volumeToken0\n",
        "    volumeToken1\n",
        "    feesUSD\n",
        "\t\tcreatedAtTimestamp\n",
        "    createdAtBlockNumber\n",
        "    totalValueLockedToken0\n",
        "    totalValueLockedToken1\n",
        "  \n",
        "  }\n",
        "\n",
        "}\n",
        "\n",
        "\"\"\"\n"
      ],
      "metadata": {
        "id": "rcnBpwt_Spx1"
      },
      "execution_count": null,
      "outputs": []
    },
    {
      "cell_type": "code",
      "source": [
        " pool_df = Extract_data(query, \"pools\")\n",
        " pool_df.info()"
      ],
      "metadata": {
        "colab": {
          "base_uri": "https://localhost:8080/"
        },
        "id": "IhanlWZ5SwSQ",
        "outputId": "74c0008b-0088-4622-d4cb-03c52cc57780"
      },
      "execution_count": null,
      "outputs": [
        {
          "output_type": "stream",
          "name": "stdout",
          "text": [
            "<class 'pandas.core.frame.DataFrame'>\n",
            "Int64Index: 5000 entries, 0 to 99\n",
            "Data columns (total 16 columns):\n",
            " #   Column                  Non-Null Count  Dtype \n",
            "---  ------                  --------------  ----- \n",
            " 0   id                      5000 non-null   object\n",
            " 1   totalValueLockedUSD     5000 non-null   object\n",
            " 2   token0                  5000 non-null   object\n",
            " 3   token1                  5000 non-null   object\n",
            " 4   feeTier                 5000 non-null   object\n",
            " 5   volumeUSD               5000 non-null   object\n",
            " 6   liquidity               5000 non-null   object\n",
            " 7   token0Price             5000 non-null   object\n",
            " 8   token1Price             5000 non-null   object\n",
            " 9   volumeToken0            5000 non-null   object\n",
            " 10  volumeToken1            5000 non-null   object\n",
            " 11  feesUSD                 5000 non-null   object\n",
            " 12  createdAtTimestamp      5000 non-null   object\n",
            " 13  createdAtBlockNumber    5000 non-null   object\n",
            " 14  totalValueLockedToken0  5000 non-null   object\n",
            " 15  totalValueLockedToken1  5000 non-null   object\n",
            "dtypes: object(16)\n",
            "memory usage: 664.1+ KB\n"
          ]
        }
      ]
    },
    {
      "cell_type": "code",
      "source": [
        "for index, row in pool_df.iterrows():\n",
        "  row[\"token0\"] = row[\"token0\"][\"symbol\"]\n",
        "  row[\"token1\"] = row[\"token1\"][\"symbol\"] "
      ],
      "metadata": {
        "id": "8NN7U3vXTHtg"
      },
      "execution_count": null,
      "outputs": []
    },
    {
      "cell_type": "code",
      "source": [
        "pool_df.head()"
      ],
      "metadata": {
        "colab": {
          "base_uri": "https://localhost:8080/",
          "height": 270
        },
        "id": "vifYxl8PTT-v",
        "outputId": "426c186d-9f68-417f-c937-65946c7b1af4"
      },
      "execution_count": null,
      "outputs": [
        {
          "output_type": "execute_result",
          "data": {
            "text/plain": [
              "                                           id  \\\n",
              "0  0xa850478adaace4c08fc61de44d8cf3b64f359bec   \n",
              "1  0x5777d92f208679db4b9778590fa3cab3ac9e2168   \n",
              "2  0x6c6bc977e13df9b0de53b251522280bb72383700   \n",
              "3  0x8ad599c3a0ff1de082011efddc58f1908eb6e6d8   \n",
              "4  0x88e6a0c2ddd26feeb64f039a2c41296fcb3f5640   \n",
              "\n",
              "                   totalValueLockedUSD token0  token1 feeTier  \\\n",
              "0  12887625156.60443191907094774602519  UMIIE  UMIIE2     500   \n",
              "1         834206170.308562890847366528    DAI    USDC     100   \n",
              "2         489041877.000607684411508241    DAI    USDC     500   \n",
              "3   319772332.483559270671390910770411   USDC    WETH    3000   \n",
              "4  255242182.7426305631533303818730392   USDC    WETH     500   \n",
              "\n",
              "                             volumeUSD                     liquidity  \\\n",
              "0                                    0  1706245281880037395956227425   \n",
              "1  11411607736.77493832205149262472364     4163037911750196992890830   \n",
              "2  6102830572.498203430944248000634074      485130580756061625850228   \n",
              "3  63017458482.66488360842323667584152          11068875157710941650   \n",
              "4  279292380212.9670687385341697513886          10281233307956748851   \n",
              "\n",
              "                             token0Price  \\\n",
              "0  0.01000586374960270227477201921193648   \n",
              "1     0.99998302784338051475326900968195   \n",
              "2    1.000050235423474734353489884721661   \n",
              "3    1290.325183053788392010240569154229   \n",
              "4    1289.964922767866667476498490907309   \n",
              "\n",
              "                               token1Price                   volumeToken0  \\\n",
              "0      99.94139686738253752770898237370869     1000103.099007820197283854   \n",
              "1      1.000016972444678474545349895298435  11412168628.50957757957106843   \n",
              "2     0.9999497670999962696978867270493328  6100232517.537320802884502008   \n",
              "3   0.000774998436931470847893237114174133             63013401227.474753   \n",
              "4  0.0007752148778234283917896513986537323            279268336587.364144   \n",
              "\n",
              "                   volumeToken1                              feesUSD  \\\n",
              "0   99930988.660196871689931931                                    0   \n",
              "1            11412326279.049196  1141160.773677493832205149262472364   \n",
              "2             6103596388.339653  3051415.286249101715472124000316969   \n",
              "3   26112440.252158879727053143  189052375.4479946508252697100275003   \n",
              "4  116270210.071247030562748386  139646190.1064835343692670848757122   \n",
              "\n",
              "  createdAtTimestamp createdAtBlockNumber        totalValueLockedToken0  \\\n",
              "0         1625360210             12757982   50050480.103497613002904654   \n",
              "1         1636771503             13605124  389285727.129007890847366528   \n",
              "2         1620158293             12369760  354477522.707567684411508241   \n",
              "3         1620169800             12370624              148426123.099756   \n",
              "4         1620250931             12376729              118317828.834612   \n",
              "\n",
              "           totalValueLockedToken1  \n",
              "0  14644676667.240849617715772909  \n",
              "1                444920443.179555  \n",
              "2                 134564354.29304  \n",
              "3       132793.044446580057440036  \n",
              "4       106116.160256565918334734  "
            ],
            "text/html": [
              "\n",
              "  <div id=\"df-f732231f-a17f-43c5-a883-8055df1dd1e2\">\n",
              "    <div class=\"colab-df-container\">\n",
              "      <div>\n",
              "<style scoped>\n",
              "    .dataframe tbody tr th:only-of-type {\n",
              "        vertical-align: middle;\n",
              "    }\n",
              "\n",
              "    .dataframe tbody tr th {\n",
              "        vertical-align: top;\n",
              "    }\n",
              "\n",
              "    .dataframe thead th {\n",
              "        text-align: right;\n",
              "    }\n",
              "</style>\n",
              "<table border=\"1\" class=\"dataframe\">\n",
              "  <thead>\n",
              "    <tr style=\"text-align: right;\">\n",
              "      <th></th>\n",
              "      <th>id</th>\n",
              "      <th>totalValueLockedUSD</th>\n",
              "      <th>token0</th>\n",
              "      <th>token1</th>\n",
              "      <th>feeTier</th>\n",
              "      <th>volumeUSD</th>\n",
              "      <th>liquidity</th>\n",
              "      <th>token0Price</th>\n",
              "      <th>token1Price</th>\n",
              "      <th>volumeToken0</th>\n",
              "      <th>volumeToken1</th>\n",
              "      <th>feesUSD</th>\n",
              "      <th>createdAtTimestamp</th>\n",
              "      <th>createdAtBlockNumber</th>\n",
              "      <th>totalValueLockedToken0</th>\n",
              "      <th>totalValueLockedToken1</th>\n",
              "    </tr>\n",
              "  </thead>\n",
              "  <tbody>\n",
              "    <tr>\n",
              "      <th>0</th>\n",
              "      <td>0xa850478adaace4c08fc61de44d8cf3b64f359bec</td>\n",
              "      <td>12887625156.60443191907094774602519</td>\n",
              "      <td>UMIIE</td>\n",
              "      <td>UMIIE2</td>\n",
              "      <td>500</td>\n",
              "      <td>0</td>\n",
              "      <td>1706245281880037395956227425</td>\n",
              "      <td>0.01000586374960270227477201921193648</td>\n",
              "      <td>99.94139686738253752770898237370869</td>\n",
              "      <td>1000103.099007820197283854</td>\n",
              "      <td>99930988.660196871689931931</td>\n",
              "      <td>0</td>\n",
              "      <td>1625360210</td>\n",
              "      <td>12757982</td>\n",
              "      <td>50050480.103497613002904654</td>\n",
              "      <td>14644676667.240849617715772909</td>\n",
              "    </tr>\n",
              "    <tr>\n",
              "      <th>1</th>\n",
              "      <td>0x5777d92f208679db4b9778590fa3cab3ac9e2168</td>\n",
              "      <td>834206170.308562890847366528</td>\n",
              "      <td>DAI</td>\n",
              "      <td>USDC</td>\n",
              "      <td>100</td>\n",
              "      <td>11411607736.77493832205149262472364</td>\n",
              "      <td>4163037911750196992890830</td>\n",
              "      <td>0.99998302784338051475326900968195</td>\n",
              "      <td>1.000016972444678474545349895298435</td>\n",
              "      <td>11412168628.50957757957106843</td>\n",
              "      <td>11412326279.049196</td>\n",
              "      <td>1141160.773677493832205149262472364</td>\n",
              "      <td>1636771503</td>\n",
              "      <td>13605124</td>\n",
              "      <td>389285727.129007890847366528</td>\n",
              "      <td>444920443.179555</td>\n",
              "    </tr>\n",
              "    <tr>\n",
              "      <th>2</th>\n",
              "      <td>0x6c6bc977e13df9b0de53b251522280bb72383700</td>\n",
              "      <td>489041877.000607684411508241</td>\n",
              "      <td>DAI</td>\n",
              "      <td>USDC</td>\n",
              "      <td>500</td>\n",
              "      <td>6102830572.498203430944248000634074</td>\n",
              "      <td>485130580756061625850228</td>\n",
              "      <td>1.000050235423474734353489884721661</td>\n",
              "      <td>0.9999497670999962696978867270493328</td>\n",
              "      <td>6100232517.537320802884502008</td>\n",
              "      <td>6103596388.339653</td>\n",
              "      <td>3051415.286249101715472124000316969</td>\n",
              "      <td>1620158293</td>\n",
              "      <td>12369760</td>\n",
              "      <td>354477522.707567684411508241</td>\n",
              "      <td>134564354.29304</td>\n",
              "    </tr>\n",
              "    <tr>\n",
              "      <th>3</th>\n",
              "      <td>0x8ad599c3a0ff1de082011efddc58f1908eb6e6d8</td>\n",
              "      <td>319772332.483559270671390910770411</td>\n",
              "      <td>USDC</td>\n",
              "      <td>WETH</td>\n",
              "      <td>3000</td>\n",
              "      <td>63017458482.66488360842323667584152</td>\n",
              "      <td>11068875157710941650</td>\n",
              "      <td>1290.325183053788392010240569154229</td>\n",
              "      <td>0.000774998436931470847893237114174133</td>\n",
              "      <td>63013401227.474753</td>\n",
              "      <td>26112440.252158879727053143</td>\n",
              "      <td>189052375.4479946508252697100275003</td>\n",
              "      <td>1620169800</td>\n",
              "      <td>12370624</td>\n",
              "      <td>148426123.099756</td>\n",
              "      <td>132793.044446580057440036</td>\n",
              "    </tr>\n",
              "    <tr>\n",
              "      <th>4</th>\n",
              "      <td>0x88e6a0c2ddd26feeb64f039a2c41296fcb3f5640</td>\n",
              "      <td>255242182.7426305631533303818730392</td>\n",
              "      <td>USDC</td>\n",
              "      <td>WETH</td>\n",
              "      <td>500</td>\n",
              "      <td>279292380212.9670687385341697513886</td>\n",
              "      <td>10281233307956748851</td>\n",
              "      <td>1289.964922767866667476498490907309</td>\n",
              "      <td>0.0007752148778234283917896513986537323</td>\n",
              "      <td>279268336587.364144</td>\n",
              "      <td>116270210.071247030562748386</td>\n",
              "      <td>139646190.1064835343692670848757122</td>\n",
              "      <td>1620250931</td>\n",
              "      <td>12376729</td>\n",
              "      <td>118317828.834612</td>\n",
              "      <td>106116.160256565918334734</td>\n",
              "    </tr>\n",
              "  </tbody>\n",
              "</table>\n",
              "</div>\n",
              "      <button class=\"colab-df-convert\" onclick=\"convertToInteractive('df-f732231f-a17f-43c5-a883-8055df1dd1e2')\"\n",
              "              title=\"Convert this dataframe to an interactive table.\"\n",
              "              style=\"display:none;\">\n",
              "        \n",
              "  <svg xmlns=\"http://www.w3.org/2000/svg\" height=\"24px\"viewBox=\"0 0 24 24\"\n",
              "       width=\"24px\">\n",
              "    <path d=\"M0 0h24v24H0V0z\" fill=\"none\"/>\n",
              "    <path d=\"M18.56 5.44l.94 2.06.94-2.06 2.06-.94-2.06-.94-.94-2.06-.94 2.06-2.06.94zm-11 1L8.5 8.5l.94-2.06 2.06-.94-2.06-.94L8.5 2.5l-.94 2.06-2.06.94zm10 10l.94 2.06.94-2.06 2.06-.94-2.06-.94-.94-2.06-.94 2.06-2.06.94z\"/><path d=\"M17.41 7.96l-1.37-1.37c-.4-.4-.92-.59-1.43-.59-.52 0-1.04.2-1.43.59L10.3 9.45l-7.72 7.72c-.78.78-.78 2.05 0 2.83L4 21.41c.39.39.9.59 1.41.59.51 0 1.02-.2 1.41-.59l7.78-7.78 2.81-2.81c.8-.78.8-2.07 0-2.86zM5.41 20L4 18.59l7.72-7.72 1.47 1.35L5.41 20z\"/>\n",
              "  </svg>\n",
              "      </button>\n",
              "      \n",
              "  <style>\n",
              "    .colab-df-container {\n",
              "      display:flex;\n",
              "      flex-wrap:wrap;\n",
              "      gap: 12px;\n",
              "    }\n",
              "\n",
              "    .colab-df-convert {\n",
              "      background-color: #E8F0FE;\n",
              "      border: none;\n",
              "      border-radius: 50%;\n",
              "      cursor: pointer;\n",
              "      display: none;\n",
              "      fill: #1967D2;\n",
              "      height: 32px;\n",
              "      padding: 0 0 0 0;\n",
              "      width: 32px;\n",
              "    }\n",
              "\n",
              "    .colab-df-convert:hover {\n",
              "      background-color: #E2EBFA;\n",
              "      box-shadow: 0px 1px 2px rgba(60, 64, 67, 0.3), 0px 1px 3px 1px rgba(60, 64, 67, 0.15);\n",
              "      fill: #174EA6;\n",
              "    }\n",
              "\n",
              "    [theme=dark] .colab-df-convert {\n",
              "      background-color: #3B4455;\n",
              "      fill: #D2E3FC;\n",
              "    }\n",
              "\n",
              "    [theme=dark] .colab-df-convert:hover {\n",
              "      background-color: #434B5C;\n",
              "      box-shadow: 0px 1px 3px 1px rgba(0, 0, 0, 0.15);\n",
              "      filter: drop-shadow(0px 1px 2px rgba(0, 0, 0, 0.3));\n",
              "      fill: #FFFFFF;\n",
              "    }\n",
              "  </style>\n",
              "\n",
              "      <script>\n",
              "        const buttonEl =\n",
              "          document.querySelector('#df-f732231f-a17f-43c5-a883-8055df1dd1e2 button.colab-df-convert');\n",
              "        buttonEl.style.display =\n",
              "          google.colab.kernel.accessAllowed ? 'block' : 'none';\n",
              "\n",
              "        async function convertToInteractive(key) {\n",
              "          const element = document.querySelector('#df-f732231f-a17f-43c5-a883-8055df1dd1e2');\n",
              "          const dataTable =\n",
              "            await google.colab.kernel.invokeFunction('convertToInteractive',\n",
              "                                                     [key], {});\n",
              "          if (!dataTable) return;\n",
              "\n",
              "          const docLinkHtml = 'Like what you see? Visit the ' +\n",
              "            '<a target=\"_blank\" href=https://colab.research.google.com/notebooks/data_table.ipynb>data table notebook</a>'\n",
              "            + ' to learn more about interactive tables.';\n",
              "          element.innerHTML = '';\n",
              "          dataTable['output_type'] = 'display_data';\n",
              "          await google.colab.output.renderOutput(dataTable, element);\n",
              "          const docLink = document.createElement('div');\n",
              "          docLink.innerHTML = docLinkHtml;\n",
              "          element.appendChild(docLink);\n",
              "        }\n",
              "      </script>\n",
              "    </div>\n",
              "  </div>\n",
              "  "
            ]
          },
          "metadata": {},
          "execution_count": 144
        }
      ]
    },
    {
      "cell_type": "code",
      "source": [
        "pool_df.info()"
      ],
      "metadata": {
        "colab": {
          "base_uri": "https://localhost:8080/"
        },
        "id": "OpqBy1y9TXj9",
        "outputId": "8a908eeb-176c-4afa-c4c4-c32289c435d2"
      },
      "execution_count": null,
      "outputs": [
        {
          "output_type": "stream",
          "name": "stdout",
          "text": [
            "<class 'pandas.core.frame.DataFrame'>\n",
            "Int64Index: 5000 entries, 0 to 99\n",
            "Data columns (total 16 columns):\n",
            " #   Column                  Non-Null Count  Dtype \n",
            "---  ------                  --------------  ----- \n",
            " 0   id                      5000 non-null   object\n",
            " 1   totalValueLockedUSD     5000 non-null   object\n",
            " 2   token0                  5000 non-null   object\n",
            " 3   token1                  5000 non-null   object\n",
            " 4   feeTier                 5000 non-null   object\n",
            " 5   volumeUSD               5000 non-null   object\n",
            " 6   liquidity               5000 non-null   object\n",
            " 7   token0Price             5000 non-null   object\n",
            " 8   token1Price             5000 non-null   object\n",
            " 9   volumeToken0            5000 non-null   object\n",
            " 10  volumeToken1            5000 non-null   object\n",
            " 11  feesUSD                 5000 non-null   object\n",
            " 12  createdAtTimestamp      5000 non-null   object\n",
            " 13  createdAtBlockNumber    5000 non-null   object\n",
            " 14  totalValueLockedToken0  5000 non-null   object\n",
            " 15  totalValueLockedToken1  5000 non-null   object\n",
            "dtypes: object(16)\n",
            "memory usage: 664.1+ KB\n"
          ]
        }
      ]
    },
    {
      "cell_type": "code",
      "source": [
        "pool_df.to_csv('Pools.csv',index=False)"
      ],
      "metadata": {
        "id": "yqbyfCZxTc39"
      },
      "execution_count": null,
      "outputs": []
    },
    {
      "cell_type": "markdown",
      "source": [
        "#### Extracting PoolDayDatas"
      ],
      "metadata": {
        "id": "_Foo6w9vBm2C"
      }
    },
    {
      "cell_type": "code",
      "source": [
        "def Extracting_Pool_day_data (pool_id):\n",
        "  # new URL / after the update \n",
        "  url = 'https://api.thegraph.com/subgraphs/name/ianlapham/v3-minimal'\n",
        "  # old URL\n",
        "  #url = 'https://api.thegraph.com/subgraphs/name/uniswap/uniswap-v3'\n",
        "  frames = []\n",
        "#   query = \"\"\"query {\n",
        "#   poolDayDatas (where : { pool : \"%s\"} , orderBy:date, orderDirection:desc,skip:%d)\n",
        "#   {\n",
        "#     date\n",
        "#     liquidity\n",
        "#     token0Price\n",
        "#     token1Price\n",
        "#     tvlUSD\n",
        "#     volumeUSD\n",
        "#     feesUSD\n",
        "#     tick\n",
        "    \n",
        "#   }\n",
        "# }\"\"\"\n",
        "\n",
        "  query = \"\"\"query {\n",
        "  poolDayDatas (where : { pool : \"%s\"} , orderBy:date, orderDirection:desc,skip:%d)\n",
        "  {\n",
        "    date\n",
        "    liquidity\n",
        "    token0Price\n",
        "    token1Price\n",
        "    totalValueLockedUSD\n",
        "    volumeUSD\n",
        "    feesUSD\n",
        "    tick\n",
        "    \n",
        "  }\n",
        "}\"\"\"\n",
        "  for i in range(0,5000,100):\n",
        "    tmp_query = query%(pool_id,i)\n",
        "    r = requests.post(url, json={'query': tmp_query})\n",
        "    json_data = json.loads(r.text)\n",
        "    try:\n",
        "      df_data = json_data['data'][\"poolDayDatas\"]\n",
        "      df = pd.DataFrame(df_data)\n",
        "      frames.append(df)\n",
        "    except KeyError:\n",
        "      break\n",
        "\n",
        "  result = pd.concat(frames)\n",
        "  result['date'] = pd.to_datetime(result['date'], unit='s')\n",
        "  result['liquidity'] = result['liquidity'].astype(float)\n",
        "  result[[\"liquidity\",\"token0Price\",\"token1Price\",\"tvlUSD\",\"volumeUSD\",\"feesUSD\",\"tick\"]] = result[[\"liquidity\",\"token0Price\",\"token1Price\",\"tvlUSD\",\"volumeUSD\",\"feesUSD\",\"tick\"]].apply(pd.to_numeric)\n",
        "  result[\"Pool_ID\"] = pool_id\n",
        "  return result\n"
      ],
      "metadata": {
        "id": "Nt3P8EABBq3l"
      },
      "execution_count": null,
      "outputs": []
    },
    {
      "cell_type": "code",
      "source": [
        "dai_usdc100_df = Extracting_Pool_day_data(dai_usdc100_id)\n",
        "dai_usdc100_df.info()"
      ],
      "metadata": {
        "colab": {
          "base_uri": "https://localhost:8080/"
        },
        "id": "OvBFOFLfN7so",
        "outputId": "ea363e8b-0f0e-4ac3-879e-92196ceb3252"
      },
      "execution_count": null,
      "outputs": [
        {
          "output_type": "stream",
          "name": "stdout",
          "text": [
            "<class 'pandas.core.frame.DataFrame'>\n",
            "Int64Index: 315 entries, 0 to 14\n",
            "Data columns (total 9 columns):\n",
            " #   Column       Non-Null Count  Dtype         \n",
            "---  ------       --------------  -----         \n",
            " 0   date         315 non-null    datetime64[ns]\n",
            " 1   liquidity    315 non-null    float64       \n",
            " 2   token0Price  315 non-null    float64       \n",
            " 3   token1Price  315 non-null    float64       \n",
            " 4   tvlUSD       315 non-null    float64       \n",
            " 5   volumeUSD    315 non-null    float64       \n",
            " 6   feesUSD      315 non-null    float64       \n",
            " 7   tick         315 non-null    int64         \n",
            " 8   Pool_ID      315 non-null    object        \n",
            "dtypes: datetime64[ns](1), float64(6), int64(1), object(1)\n",
            "memory usage: 24.6+ KB\n"
          ]
        }
      ]
    },
    {
      "cell_type": "code",
      "source": [
        "usdc_WETH_3000_df = Extracting_Pool_day_data(usdc_WETH_3000_id)\n",
        "usdc_WETH_3000_df.info()"
      ],
      "metadata": {
        "colab": {
          "base_uri": "https://localhost:8080/"
        },
        "id": "7l6MjOuHPy7O",
        "outputId": "a495e7a7-c89c-4cc7-d59d-188f80b30bcd"
      },
      "execution_count": null,
      "outputs": [
        {
          "output_type": "stream",
          "name": "stdout",
          "text": [
            "<class 'pandas.core.frame.DataFrame'>\n",
            "Int64Index: 508 entries, 0 to 7\n",
            "Data columns (total 9 columns):\n",
            " #   Column       Non-Null Count  Dtype         \n",
            "---  ------       --------------  -----         \n",
            " 0   date         508 non-null    datetime64[ns]\n",
            " 1   liquidity    508 non-null    float64       \n",
            " 2   token0Price  508 non-null    float64       \n",
            " 3   token1Price  508 non-null    float64       \n",
            " 4   tvlUSD       508 non-null    float64       \n",
            " 5   volumeUSD    508 non-null    float64       \n",
            " 6   feesUSD      508 non-null    float64       \n",
            " 7   tick         507 non-null    float64       \n",
            " 8   Pool_ID      508 non-null    object        \n",
            "dtypes: datetime64[ns](1), float64(7), object(1)\n",
            "memory usage: 39.7+ KB\n"
          ]
        }
      ]
    },
    {
      "cell_type": "code",
      "source": [
        "wbtc_WETH_3000_df = Extracting_Pool_day_data(wbtc_WETH_3000_id)\n",
        "wbtc_WETH_3000_df.info()"
      ],
      "metadata": {
        "colab": {
          "base_uri": "https://localhost:8080/"
        },
        "id": "kOiVgnKJP1mZ",
        "outputId": "fc230fa7-755a-42f5-9c11-47281cd7b492"
      },
      "execution_count": null,
      "outputs": [
        {
          "output_type": "stream",
          "name": "stdout",
          "text": [
            "<class 'pandas.core.frame.DataFrame'>\n",
            "Int64Index: 508 entries, 0 to 7\n",
            "Data columns (total 9 columns):\n",
            " #   Column       Non-Null Count  Dtype         \n",
            "---  ------       --------------  -----         \n",
            " 0   date         508 non-null    datetime64[ns]\n",
            " 1   liquidity    508 non-null    float64       \n",
            " 2   token0Price  508 non-null    float64       \n",
            " 3   token1Price  508 non-null    float64       \n",
            " 4   tvlUSD       508 non-null    float64       \n",
            " 5   volumeUSD    508 non-null    float64       \n",
            " 6   feesUSD      508 non-null    float64       \n",
            " 7   tick         508 non-null    int64         \n",
            " 8   Pool_ID      508 non-null    object        \n",
            "dtypes: datetime64[ns](1), float64(6), int64(1), object(1)\n",
            "memory usage: 39.7+ KB\n"
          ]
        }
      ]
    },
    {
      "cell_type": "code",
      "source": [
        "UNI_WETH_3000_df = Extracting_Pool_day_data(UNI_WETH_3000_id)\n",
        "UNI_WETH_3000_df.info()"
      ],
      "metadata": {
        "colab": {
          "base_uri": "https://localhost:8080/"
        },
        "id": "wi-G3e45P4HM",
        "outputId": "0824b0fe-9407-4254-c241-711aea5a8fd5"
      },
      "execution_count": null,
      "outputs": [
        {
          "output_type": "stream",
          "name": "stdout",
          "text": [
            "<class 'pandas.core.frame.DataFrame'>\n",
            "Int64Index: 508 entries, 0 to 7\n",
            "Data columns (total 9 columns):\n",
            " #   Column       Non-Null Count  Dtype         \n",
            "---  ------       --------------  -----         \n",
            " 0   date         508 non-null    datetime64[ns]\n",
            " 1   liquidity    508 non-null    float64       \n",
            " 2   token0Price  508 non-null    float64       \n",
            " 3   token1Price  508 non-null    float64       \n",
            " 4   tvlUSD       508 non-null    float64       \n",
            " 5   volumeUSD    508 non-null    float64       \n",
            " 6   feesUSD      508 non-null    float64       \n",
            " 7   tick         507 non-null    float64       \n",
            " 8   Pool_ID      508 non-null    object        \n",
            "dtypes: datetime64[ns](1), float64(7), object(1)\n",
            "memory usage: 39.7+ KB\n"
          ]
        }
      ]
    },
    {
      "cell_type": "code",
      "source": [
        "result = pd.concat([UNI_WETH_3000_df,wbtc_WETH_3000_df,usdc_WETH_3000_df,dai_usdc100_df])\n",
        "result.info()"
      ],
      "metadata": {
        "colab": {
          "base_uri": "https://localhost:8080/"
        },
        "id": "dQ3ZICssQAlm",
        "outputId": "fb75f640-491a-4cc5-f272-e5c21a99f770"
      },
      "execution_count": null,
      "outputs": [
        {
          "output_type": "stream",
          "name": "stdout",
          "text": [
            "<class 'pandas.core.frame.DataFrame'>\n",
            "Int64Index: 1839 entries, 0 to 14\n",
            "Data columns (total 9 columns):\n",
            " #   Column       Non-Null Count  Dtype         \n",
            "---  ------       --------------  -----         \n",
            " 0   date         1839 non-null   datetime64[ns]\n",
            " 1   liquidity    1839 non-null   float64       \n",
            " 2   token0Price  1839 non-null   float64       \n",
            " 3   token1Price  1839 non-null   float64       \n",
            " 4   tvlUSD       1839 non-null   float64       \n",
            " 5   volumeUSD    1839 non-null   float64       \n",
            " 6   feesUSD      1839 non-null   float64       \n",
            " 7   tick         1837 non-null   float64       \n",
            " 8   Pool_ID      1839 non-null   object        \n",
            "dtypes: datetime64[ns](1), float64(7), object(1)\n",
            "memory usage: 143.7+ KB\n"
          ]
        }
      ]
    },
    {
      "cell_type": "code",
      "source": [
        "result.to_csv('PoolDayDatas.csv',index=False)"
      ],
      "metadata": {
        "id": "6WjMfFIgQNA3"
      },
      "execution_count": null,
      "outputs": []
    },
    {
      "cell_type": "code",
      "source": [],
      "metadata": {
        "id": "UiN6HCqhQjGW"
      },
      "execution_count": null,
      "outputs": []
    },
    {
      "cell_type": "markdown",
      "source": [
        "#### Extracting General Ticks\n",
        "\n"
      ],
      "metadata": {
        "id": "uH7JAxuC8t7m"
      }
    },
    {
      "cell_type": "code",
      "source": [
        "query = \"\"\"\n",
        " query { \n",
        "  ticks (skip : %d ,orderBy: createdAtTimestamp , orderDirection: desc)\n",
        "  {\n",
        "    id\n",
        "    poolAddress\n",
        "    tickIdx\n",
        "    pool\n",
        "    {\n",
        "      id\n",
        "    }\n",
        "    liquidityGross\n",
        "    liquidityNet\n",
        "    price0\n",
        "    price1\n",
        "    createdAtTimestamp\n",
        "    createdAtBlockNumber\n",
        "  }\n",
        "}\n",
        "\n",
        "\"\"\"\n"
      ],
      "metadata": {
        "id": "PIOeAC4pPqBu"
      },
      "execution_count": null,
      "outputs": []
    },
    {
      "cell_type": "code",
      "source": [
        " tdf = Extract_data(query, \"ticks\")\n",
        " tdf.info()"
      ],
      "metadata": {
        "colab": {
          "base_uri": "https://localhost:8080/"
        },
        "id": "i5UllRvTURrs",
        "outputId": "c0480fc7-41df-4793-c266-d9c081b0e2dc"
      },
      "execution_count": null,
      "outputs": [
        {
          "output_type": "stream",
          "name": "stdout",
          "text": [
            "<class 'pandas.core.frame.DataFrame'>\n",
            "Int64Index: 5000 entries, 0 to 99\n",
            "Data columns (total 10 columns):\n",
            " #   Column                Non-Null Count  Dtype \n",
            "---  ------                --------------  ----- \n",
            " 0   id                    5000 non-null   object\n",
            " 1   poolAddress           5000 non-null   object\n",
            " 2   tickIdx               5000 non-null   object\n",
            " 3   pool                  5000 non-null   object\n",
            " 4   liquidityGross        5000 non-null   object\n",
            " 5   liquidityNet          5000 non-null   object\n",
            " 6   price0                5000 non-null   object\n",
            " 7   price1                5000 non-null   object\n",
            " 8   createdAtTimestamp    5000 non-null   object\n",
            " 9   createdAtBlockNumber  5000 non-null   object\n",
            "dtypes: object(10)\n",
            "memory usage: 429.7+ KB\n"
          ]
        }
      ]
    },
    {
      "cell_type": "code",
      "source": [
        "for index, row in tdf.iterrows():\n",
        "  row[\"pool\"] = row[\"pool\"][\"id\"] "
      ],
      "metadata": {
        "id": "lNNiucfgUWEL"
      },
      "execution_count": null,
      "outputs": []
    },
    {
      "cell_type": "code",
      "source": [
        "tdf.head()"
      ],
      "metadata": {
        "colab": {
          "base_uri": "https://localhost:8080/",
          "height": 270
        },
        "id": "lGyExPhIP-DG",
        "outputId": "29a61783-7eb8-49e6-95b1-61fd26a7990d"
      },
      "execution_count": null,
      "outputs": [
        {
          "output_type": "execute_result",
          "data": {
            "text/plain": [
              "                                                  id  \\\n",
              "0  0x8ad599c3a0ff1de082011efddc58f1908eb6e6d8#346380   \n",
              "1  0x4bec87cb126de6c1f8b410e32d1f4ae472fdd83b#-20...   \n",
              "2  0xf7849d0852fc588210b9c0d8b26f43c0c9bc1470#-13...   \n",
              "3  0x9445bd19767f73dcae6f2de90e6cd31192f62589#277800   \n",
              "4   0xe42318ea3b998e8355a3da364eb9d48ec725eb45#43500   \n",
              "\n",
              "                                  poolAddress  tickIdx  \\\n",
              "0  0x8ad599c3a0ff1de082011efddc58f1908eb6e6d8   346380   \n",
              "1  0x4bec87cb126de6c1f8b410e32d1f4ae472fdd83b  -201360   \n",
              "2  0xf7849d0852fc588210b9c0d8b26f43c0c9bc1470  -135000   \n",
              "3  0x9445bd19767f73dcae6f2de90e6cd31192f62589   277800   \n",
              "4  0xe42318ea3b998e8355a3da364eb9d48ec725eb45    43500   \n",
              "\n",
              "                                         pool           liquidityGross  \\\n",
              "0  0x8ad599c3a0ff1de082011efddc58f1908eb6e6d8       246162937765998607   \n",
              "1  0x4bec87cb126de6c1f8b410e32d1f4ae472fdd83b        10609116095335470   \n",
              "2  0xf7849d0852fc588210b9c0d8b26f43c0c9bc1470  40947930414389079982241   \n",
              "3  0x9445bd19767f73dcae6f2de90e6cd31192f62589        57507473077847958   \n",
              "4  0xe42318ea3b998e8355a3da364eb9d48ec725eb45    392904121523638458835   \n",
              "\n",
              "              liquidityNet                                        price0  \\\n",
              "0       246162937765998607           1102402424470636.927756250890122121   \n",
              "1       -10609116095335470  0.000000001800874841400448002512182369404989   \n",
              "2  40947930414389079982241     0.000001371884734429110014646117801662617   \n",
              "3       -57507473077847958           1159037566472.493357294958942234885   \n",
              "4   -392904121523638458835            77.4616143151586962915846420080363   \n",
              "\n",
              "                                              price1 createdAtTimestamp  \\\n",
              "0  0.00000000000000090710976119286966376851998176...         1663935143   \n",
              "1                555285673.9463089434345479848637841         1663934891   \n",
              "2                728924.2127299678227919792709308213         1663934735   \n",
              "3   0.0000000000008627848043299227379650614160738691         1663934111   \n",
              "4              0.01290961993034925677034396037550325         1663933391   \n",
              "\n",
              "  createdAtBlockNumber  \n",
              "0             15595968  \n",
              "1             15595947  \n",
              "2             15595934  \n",
              "3             15595883  \n",
              "4             15595823  "
            ],
            "text/html": [
              "\n",
              "  <div id=\"df-e23d3270-e5bc-460f-8d69-09d08e6ce0fa\">\n",
              "    <div class=\"colab-df-container\">\n",
              "      <div>\n",
              "<style scoped>\n",
              "    .dataframe tbody tr th:only-of-type {\n",
              "        vertical-align: middle;\n",
              "    }\n",
              "\n",
              "    .dataframe tbody tr th {\n",
              "        vertical-align: top;\n",
              "    }\n",
              "\n",
              "    .dataframe thead th {\n",
              "        text-align: right;\n",
              "    }\n",
              "</style>\n",
              "<table border=\"1\" class=\"dataframe\">\n",
              "  <thead>\n",
              "    <tr style=\"text-align: right;\">\n",
              "      <th></th>\n",
              "      <th>id</th>\n",
              "      <th>poolAddress</th>\n",
              "      <th>tickIdx</th>\n",
              "      <th>pool</th>\n",
              "      <th>liquidityGross</th>\n",
              "      <th>liquidityNet</th>\n",
              "      <th>price0</th>\n",
              "      <th>price1</th>\n",
              "      <th>createdAtTimestamp</th>\n",
              "      <th>createdAtBlockNumber</th>\n",
              "    </tr>\n",
              "  </thead>\n",
              "  <tbody>\n",
              "    <tr>\n",
              "      <th>0</th>\n",
              "      <td>0x8ad599c3a0ff1de082011efddc58f1908eb6e6d8#346380</td>\n",
              "      <td>0x8ad599c3a0ff1de082011efddc58f1908eb6e6d8</td>\n",
              "      <td>346380</td>\n",
              "      <td>0x8ad599c3a0ff1de082011efddc58f1908eb6e6d8</td>\n",
              "      <td>246162937765998607</td>\n",
              "      <td>246162937765998607</td>\n",
              "      <td>1102402424470636.927756250890122121</td>\n",
              "      <td>0.00000000000000090710976119286966376851998176...</td>\n",
              "      <td>1663935143</td>\n",
              "      <td>15595968</td>\n",
              "    </tr>\n",
              "    <tr>\n",
              "      <th>1</th>\n",
              "      <td>0x4bec87cb126de6c1f8b410e32d1f4ae472fdd83b#-20...</td>\n",
              "      <td>0x4bec87cb126de6c1f8b410e32d1f4ae472fdd83b</td>\n",
              "      <td>-201360</td>\n",
              "      <td>0x4bec87cb126de6c1f8b410e32d1f4ae472fdd83b</td>\n",
              "      <td>10609116095335470</td>\n",
              "      <td>-10609116095335470</td>\n",
              "      <td>0.000000001800874841400448002512182369404989</td>\n",
              "      <td>555285673.9463089434345479848637841</td>\n",
              "      <td>1663934891</td>\n",
              "      <td>15595947</td>\n",
              "    </tr>\n",
              "    <tr>\n",
              "      <th>2</th>\n",
              "      <td>0xf7849d0852fc588210b9c0d8b26f43c0c9bc1470#-13...</td>\n",
              "      <td>0xf7849d0852fc588210b9c0d8b26f43c0c9bc1470</td>\n",
              "      <td>-135000</td>\n",
              "      <td>0xf7849d0852fc588210b9c0d8b26f43c0c9bc1470</td>\n",
              "      <td>40947930414389079982241</td>\n",
              "      <td>40947930414389079982241</td>\n",
              "      <td>0.000001371884734429110014646117801662617</td>\n",
              "      <td>728924.2127299678227919792709308213</td>\n",
              "      <td>1663934735</td>\n",
              "      <td>15595934</td>\n",
              "    </tr>\n",
              "    <tr>\n",
              "      <th>3</th>\n",
              "      <td>0x9445bd19767f73dcae6f2de90e6cd31192f62589#277800</td>\n",
              "      <td>0x9445bd19767f73dcae6f2de90e6cd31192f62589</td>\n",
              "      <td>277800</td>\n",
              "      <td>0x9445bd19767f73dcae6f2de90e6cd31192f62589</td>\n",
              "      <td>57507473077847958</td>\n",
              "      <td>-57507473077847958</td>\n",
              "      <td>1159037566472.493357294958942234885</td>\n",
              "      <td>0.0000000000008627848043299227379650614160738691</td>\n",
              "      <td>1663934111</td>\n",
              "      <td>15595883</td>\n",
              "    </tr>\n",
              "    <tr>\n",
              "      <th>4</th>\n",
              "      <td>0xe42318ea3b998e8355a3da364eb9d48ec725eb45#43500</td>\n",
              "      <td>0xe42318ea3b998e8355a3da364eb9d48ec725eb45</td>\n",
              "      <td>43500</td>\n",
              "      <td>0xe42318ea3b998e8355a3da364eb9d48ec725eb45</td>\n",
              "      <td>392904121523638458835</td>\n",
              "      <td>-392904121523638458835</td>\n",
              "      <td>77.4616143151586962915846420080363</td>\n",
              "      <td>0.01290961993034925677034396037550325</td>\n",
              "      <td>1663933391</td>\n",
              "      <td>15595823</td>\n",
              "    </tr>\n",
              "  </tbody>\n",
              "</table>\n",
              "</div>\n",
              "      <button class=\"colab-df-convert\" onclick=\"convertToInteractive('df-e23d3270-e5bc-460f-8d69-09d08e6ce0fa')\"\n",
              "              title=\"Convert this dataframe to an interactive table.\"\n",
              "              style=\"display:none;\">\n",
              "        \n",
              "  <svg xmlns=\"http://www.w3.org/2000/svg\" height=\"24px\"viewBox=\"0 0 24 24\"\n",
              "       width=\"24px\">\n",
              "    <path d=\"M0 0h24v24H0V0z\" fill=\"none\"/>\n",
              "    <path d=\"M18.56 5.44l.94 2.06.94-2.06 2.06-.94-2.06-.94-.94-2.06-.94 2.06-2.06.94zm-11 1L8.5 8.5l.94-2.06 2.06-.94-2.06-.94L8.5 2.5l-.94 2.06-2.06.94zm10 10l.94 2.06.94-2.06 2.06-.94-2.06-.94-.94-2.06-.94 2.06-2.06.94z\"/><path d=\"M17.41 7.96l-1.37-1.37c-.4-.4-.92-.59-1.43-.59-.52 0-1.04.2-1.43.59L10.3 9.45l-7.72 7.72c-.78.78-.78 2.05 0 2.83L4 21.41c.39.39.9.59 1.41.59.51 0 1.02-.2 1.41-.59l7.78-7.78 2.81-2.81c.8-.78.8-2.07 0-2.86zM5.41 20L4 18.59l7.72-7.72 1.47 1.35L5.41 20z\"/>\n",
              "  </svg>\n",
              "      </button>\n",
              "      \n",
              "  <style>\n",
              "    .colab-df-container {\n",
              "      display:flex;\n",
              "      flex-wrap:wrap;\n",
              "      gap: 12px;\n",
              "    }\n",
              "\n",
              "    .colab-df-convert {\n",
              "      background-color: #E8F0FE;\n",
              "      border: none;\n",
              "      border-radius: 50%;\n",
              "      cursor: pointer;\n",
              "      display: none;\n",
              "      fill: #1967D2;\n",
              "      height: 32px;\n",
              "      padding: 0 0 0 0;\n",
              "      width: 32px;\n",
              "    }\n",
              "\n",
              "    .colab-df-convert:hover {\n",
              "      background-color: #E2EBFA;\n",
              "      box-shadow: 0px 1px 2px rgba(60, 64, 67, 0.3), 0px 1px 3px 1px rgba(60, 64, 67, 0.15);\n",
              "      fill: #174EA6;\n",
              "    }\n",
              "\n",
              "    [theme=dark] .colab-df-convert {\n",
              "      background-color: #3B4455;\n",
              "      fill: #D2E3FC;\n",
              "    }\n",
              "\n",
              "    [theme=dark] .colab-df-convert:hover {\n",
              "      background-color: #434B5C;\n",
              "      box-shadow: 0px 1px 3px 1px rgba(0, 0, 0, 0.15);\n",
              "      filter: drop-shadow(0px 1px 2px rgba(0, 0, 0, 0.3));\n",
              "      fill: #FFFFFF;\n",
              "    }\n",
              "  </style>\n",
              "\n",
              "      <script>\n",
              "        const buttonEl =\n",
              "          document.querySelector('#df-e23d3270-e5bc-460f-8d69-09d08e6ce0fa button.colab-df-convert');\n",
              "        buttonEl.style.display =\n",
              "          google.colab.kernel.accessAllowed ? 'block' : 'none';\n",
              "\n",
              "        async function convertToInteractive(key) {\n",
              "          const element = document.querySelector('#df-e23d3270-e5bc-460f-8d69-09d08e6ce0fa');\n",
              "          const dataTable =\n",
              "            await google.colab.kernel.invokeFunction('convertToInteractive',\n",
              "                                                     [key], {});\n",
              "          if (!dataTable) return;\n",
              "\n",
              "          const docLinkHtml = 'Like what you see? Visit the ' +\n",
              "            '<a target=\"_blank\" href=https://colab.research.google.com/notebooks/data_table.ipynb>data table notebook</a>'\n",
              "            + ' to learn more about interactive tables.';\n",
              "          element.innerHTML = '';\n",
              "          dataTable['output_type'] = 'display_data';\n",
              "          await google.colab.output.renderOutput(dataTable, element);\n",
              "          const docLink = document.createElement('div');\n",
              "          docLink.innerHTML = docLinkHtml;\n",
              "          element.appendChild(docLink);\n",
              "        }\n",
              "      </script>\n",
              "    </div>\n",
              "  </div>\n",
              "  "
            ]
          },
          "metadata": {},
          "execution_count": 78
        }
      ]
    },
    {
      "cell_type": "code",
      "source": [
        "tdf.info()"
      ],
      "metadata": {
        "colab": {
          "base_uri": "https://localhost:8080/"
        },
        "id": "YyEdtq-RQAFi",
        "outputId": "67d4f570-f212-4959-b8b3-a729f5faf895"
      },
      "execution_count": null,
      "outputs": [
        {
          "output_type": "stream",
          "name": "stdout",
          "text": [
            "<class 'pandas.core.frame.DataFrame'>\n",
            "Int64Index: 5000 entries, 0 to 99\n",
            "Data columns (total 10 columns):\n",
            " #   Column                Non-Null Count  Dtype \n",
            "---  ------                --------------  ----- \n",
            " 0   id                    5000 non-null   object\n",
            " 1   poolAddress           5000 non-null   object\n",
            " 2   tickIdx               5000 non-null   object\n",
            " 3   pool                  5000 non-null   object\n",
            " 4   liquidityGross        5000 non-null   object\n",
            " 5   liquidityNet          5000 non-null   object\n",
            " 6   price0                5000 non-null   object\n",
            " 7   price1                5000 non-null   object\n",
            " 8   createdAtTimestamp    5000 non-null   object\n",
            " 9   createdAtBlockNumber  5000 non-null   object\n",
            "dtypes: object(10)\n",
            "memory usage: 429.7+ KB\n"
          ]
        }
      ]
    },
    {
      "cell_type": "code",
      "source": [
        "tdf.to_csv('General_Ticks.csv',index=False)"
      ],
      "metadata": {
        "id": "nrmg1n4CQCqH"
      },
      "execution_count": null,
      "outputs": []
    },
    {
      "cell_type": "code",
      "source": [],
      "metadata": {
        "id": "oCTRx1MbQw4Z"
      },
      "execution_count": null,
      "outputs": []
    },
    {
      "cell_type": "markdown",
      "source": [
        "#### Extracting uniswapDayDates"
      ],
      "metadata": {
        "id": "0-SNASzGxyd1"
      }
    },
    {
      "cell_type": "code",
      "source": [
        "\n",
        "query = \"\"\"\n",
        " query {\n",
        "  uniswapDayDatas (skip : %d , orderBy: date , orderDirection:desc)\n",
        "  {\n",
        "    id\n",
        "    date\n",
        "    volumeETH\n",
        "    volumeUSD\n",
        "    volumeUSDUntracked\n",
        "    feesUSD\n",
        "    txCount\n",
        "    tvlUSD\n",
        "  }\n",
        "}\n",
        "\"\"\"\n"
      ],
      "metadata": {
        "id": "pA-mylyRwiJi"
      },
      "execution_count": 5,
      "outputs": []
    },
    {
      "cell_type": "code",
      "source": [
        " tdf = Extract_data(query, \"uniswapDayDatas\")\n",
        " tdf.info()"
      ],
      "metadata": {
        "colab": {
          "base_uri": "https://localhost:8080/"
        },
        "id": "pqFvGRkayDN9",
        "outputId": "c7aae9c7-ed06-4dd6-a35d-8ab2b4074310"
      },
      "execution_count": 6,
      "outputs": [
        {
          "output_type": "stream",
          "name": "stdout",
          "text": [
            "<class 'pandas.core.frame.DataFrame'>\n",
            "Int64Index: 510 entries, 0 to 9\n",
            "Data columns (total 8 columns):\n",
            " #   Column              Non-Null Count  Dtype \n",
            "---  ------              --------------  ----- \n",
            " 0   id                  510 non-null    object\n",
            " 1   date                510 non-null    int64 \n",
            " 2   volumeETH           510 non-null    object\n",
            " 3   volumeUSD           510 non-null    object\n",
            " 4   volumeUSDUntracked  510 non-null    object\n",
            " 5   feesUSD             510 non-null    object\n",
            " 6   txCount             510 non-null    object\n",
            " 7   tvlUSD              510 non-null    object\n",
            "dtypes: int64(1), object(7)\n",
            "memory usage: 35.9+ KB\n"
          ]
        }
      ]
    },
    {
      "cell_type": "code",
      "source": [
        "tdf.head()"
      ],
      "metadata": {
        "colab": {
          "base_uri": "https://localhost:8080/",
          "height": 270
        },
        "id": "-hHtRcxyyKqj",
        "outputId": "df69ef96-0cad-48c5-ab30-4aab078e582e"
      },
      "execution_count": 7,
      "outputs": [
        {
          "output_type": "execute_result",
          "data": {
            "text/plain": [
              "      id        date                            volumeETH  \\\n",
              "0  19260  1664064000  41808.96984756841540054928614069313   \n",
              "1  19259  1663977600   411917.668920571420170830294365871   \n",
              "2  19258  1663891200  684975.3311218756633673456120045697   \n",
              "3  19257  1663804800  677680.2525415679185679451563958968   \n",
              "4  19256  1663718400  833642.4632467218565925091173449278   \n",
              "\n",
              "                             volumeUSD volumeUSDUntracked  \\\n",
              "0  55246253.10123311543487006944284265                  0   \n",
              "1  548059851.4982977532110679378439496                  0   \n",
              "2  895732932.5320392183943394108234407                  0   \n",
              "3  869577845.9258006669805956222923204                  0   \n",
              "4  1100907057.866486558540979049417866                  0   \n",
              "\n",
              "                               feesUSD   txCount  \\\n",
              "0  64983.20993309552086495656747326355  20552279   \n",
              "1  607927.8985586753817325945061931862  20544737   \n",
              "2  1196517.894051384910294894360261242  20497170   \n",
              "3  1122297.620916022671321777081253503  20434882   \n",
              "4  1502771.602234087556472982341012162  20380129   \n",
              "\n",
              "                                tvlUSD  \n",
              "0  10504721785.33476754884267158424524  \n",
              "1  10445415098.16606953531631630606567  \n",
              "2  10500764534.69024577146600810209887  \n",
              "3  10490544001.69283982875454940389994  \n",
              "4  9906515571.516406653776277337647054  "
            ],
            "text/html": [
              "\n",
              "  <div id=\"df-60c1dd29-1d26-4434-9ba1-2f66f9052346\">\n",
              "    <div class=\"colab-df-container\">\n",
              "      <div>\n",
              "<style scoped>\n",
              "    .dataframe tbody tr th:only-of-type {\n",
              "        vertical-align: middle;\n",
              "    }\n",
              "\n",
              "    .dataframe tbody tr th {\n",
              "        vertical-align: top;\n",
              "    }\n",
              "\n",
              "    .dataframe thead th {\n",
              "        text-align: right;\n",
              "    }\n",
              "</style>\n",
              "<table border=\"1\" class=\"dataframe\">\n",
              "  <thead>\n",
              "    <tr style=\"text-align: right;\">\n",
              "      <th></th>\n",
              "      <th>id</th>\n",
              "      <th>date</th>\n",
              "      <th>volumeETH</th>\n",
              "      <th>volumeUSD</th>\n",
              "      <th>volumeUSDUntracked</th>\n",
              "      <th>feesUSD</th>\n",
              "      <th>txCount</th>\n",
              "      <th>tvlUSD</th>\n",
              "    </tr>\n",
              "  </thead>\n",
              "  <tbody>\n",
              "    <tr>\n",
              "      <th>0</th>\n",
              "      <td>19260</td>\n",
              "      <td>1664064000</td>\n",
              "      <td>41808.96984756841540054928614069313</td>\n",
              "      <td>55246253.10123311543487006944284265</td>\n",
              "      <td>0</td>\n",
              "      <td>64983.20993309552086495656747326355</td>\n",
              "      <td>20552279</td>\n",
              "      <td>10504721785.33476754884267158424524</td>\n",
              "    </tr>\n",
              "    <tr>\n",
              "      <th>1</th>\n",
              "      <td>19259</td>\n",
              "      <td>1663977600</td>\n",
              "      <td>411917.668920571420170830294365871</td>\n",
              "      <td>548059851.4982977532110679378439496</td>\n",
              "      <td>0</td>\n",
              "      <td>607927.8985586753817325945061931862</td>\n",
              "      <td>20544737</td>\n",
              "      <td>10445415098.16606953531631630606567</td>\n",
              "    </tr>\n",
              "    <tr>\n",
              "      <th>2</th>\n",
              "      <td>19258</td>\n",
              "      <td>1663891200</td>\n",
              "      <td>684975.3311218756633673456120045697</td>\n",
              "      <td>895732932.5320392183943394108234407</td>\n",
              "      <td>0</td>\n",
              "      <td>1196517.894051384910294894360261242</td>\n",
              "      <td>20497170</td>\n",
              "      <td>10500764534.69024577146600810209887</td>\n",
              "    </tr>\n",
              "    <tr>\n",
              "      <th>3</th>\n",
              "      <td>19257</td>\n",
              "      <td>1663804800</td>\n",
              "      <td>677680.2525415679185679451563958968</td>\n",
              "      <td>869577845.9258006669805956222923204</td>\n",
              "      <td>0</td>\n",
              "      <td>1122297.620916022671321777081253503</td>\n",
              "      <td>20434882</td>\n",
              "      <td>10490544001.69283982875454940389994</td>\n",
              "    </tr>\n",
              "    <tr>\n",
              "      <th>4</th>\n",
              "      <td>19256</td>\n",
              "      <td>1663718400</td>\n",
              "      <td>833642.4632467218565925091173449278</td>\n",
              "      <td>1100907057.866486558540979049417866</td>\n",
              "      <td>0</td>\n",
              "      <td>1502771.602234087556472982341012162</td>\n",
              "      <td>20380129</td>\n",
              "      <td>9906515571.516406653776277337647054</td>\n",
              "    </tr>\n",
              "  </tbody>\n",
              "</table>\n",
              "</div>\n",
              "      <button class=\"colab-df-convert\" onclick=\"convertToInteractive('df-60c1dd29-1d26-4434-9ba1-2f66f9052346')\"\n",
              "              title=\"Convert this dataframe to an interactive table.\"\n",
              "              style=\"display:none;\">\n",
              "        \n",
              "  <svg xmlns=\"http://www.w3.org/2000/svg\" height=\"24px\"viewBox=\"0 0 24 24\"\n",
              "       width=\"24px\">\n",
              "    <path d=\"M0 0h24v24H0V0z\" fill=\"none\"/>\n",
              "    <path d=\"M18.56 5.44l.94 2.06.94-2.06 2.06-.94-2.06-.94-.94-2.06-.94 2.06-2.06.94zm-11 1L8.5 8.5l.94-2.06 2.06-.94-2.06-.94L8.5 2.5l-.94 2.06-2.06.94zm10 10l.94 2.06.94-2.06 2.06-.94-2.06-.94-.94-2.06-.94 2.06-2.06.94z\"/><path d=\"M17.41 7.96l-1.37-1.37c-.4-.4-.92-.59-1.43-.59-.52 0-1.04.2-1.43.59L10.3 9.45l-7.72 7.72c-.78.78-.78 2.05 0 2.83L4 21.41c.39.39.9.59 1.41.59.51 0 1.02-.2 1.41-.59l7.78-7.78 2.81-2.81c.8-.78.8-2.07 0-2.86zM5.41 20L4 18.59l7.72-7.72 1.47 1.35L5.41 20z\"/>\n",
              "  </svg>\n",
              "      </button>\n",
              "      \n",
              "  <style>\n",
              "    .colab-df-container {\n",
              "      display:flex;\n",
              "      flex-wrap:wrap;\n",
              "      gap: 12px;\n",
              "    }\n",
              "\n",
              "    .colab-df-convert {\n",
              "      background-color: #E8F0FE;\n",
              "      border: none;\n",
              "      border-radius: 50%;\n",
              "      cursor: pointer;\n",
              "      display: none;\n",
              "      fill: #1967D2;\n",
              "      height: 32px;\n",
              "      padding: 0 0 0 0;\n",
              "      width: 32px;\n",
              "    }\n",
              "\n",
              "    .colab-df-convert:hover {\n",
              "      background-color: #E2EBFA;\n",
              "      box-shadow: 0px 1px 2px rgba(60, 64, 67, 0.3), 0px 1px 3px 1px rgba(60, 64, 67, 0.15);\n",
              "      fill: #174EA6;\n",
              "    }\n",
              "\n",
              "    [theme=dark] .colab-df-convert {\n",
              "      background-color: #3B4455;\n",
              "      fill: #D2E3FC;\n",
              "    }\n",
              "\n",
              "    [theme=dark] .colab-df-convert:hover {\n",
              "      background-color: #434B5C;\n",
              "      box-shadow: 0px 1px 3px 1px rgba(0, 0, 0, 0.15);\n",
              "      filter: drop-shadow(0px 1px 2px rgba(0, 0, 0, 0.3));\n",
              "      fill: #FFFFFF;\n",
              "    }\n",
              "  </style>\n",
              "\n",
              "      <script>\n",
              "        const buttonEl =\n",
              "          document.querySelector('#df-60c1dd29-1d26-4434-9ba1-2f66f9052346 button.colab-df-convert');\n",
              "        buttonEl.style.display =\n",
              "          google.colab.kernel.accessAllowed ? 'block' : 'none';\n",
              "\n",
              "        async function convertToInteractive(key) {\n",
              "          const element = document.querySelector('#df-60c1dd29-1d26-4434-9ba1-2f66f9052346');\n",
              "          const dataTable =\n",
              "            await google.colab.kernel.invokeFunction('convertToInteractive',\n",
              "                                                     [key], {});\n",
              "          if (!dataTable) return;\n",
              "\n",
              "          const docLinkHtml = 'Like what you see? Visit the ' +\n",
              "            '<a target=\"_blank\" href=https://colab.research.google.com/notebooks/data_table.ipynb>data table notebook</a>'\n",
              "            + ' to learn more about interactive tables.';\n",
              "          element.innerHTML = '';\n",
              "          dataTable['output_type'] = 'display_data';\n",
              "          await google.colab.output.renderOutput(dataTable, element);\n",
              "          const docLink = document.createElement('div');\n",
              "          docLink.innerHTML = docLinkHtml;\n",
              "          element.appendChild(docLink);\n",
              "        }\n",
              "      </script>\n",
              "    </div>\n",
              "  </div>\n",
              "  "
            ]
          },
          "metadata": {},
          "execution_count": 7
        }
      ]
    },
    {
      "cell_type": "code",
      "source": [
        "tdf.to_csv('uniswapDayDatas.csv',index=False)"
      ],
      "metadata": {
        "id": "Y7sTEEUzyLte"
      },
      "execution_count": 8,
      "outputs": []
    },
    {
      "cell_type": "code",
      "source": [],
      "metadata": {
        "id": "DgjeL5QtzMD3",
        "colab": {
          "base_uri": "https://localhost:8080/"
        },
        "outputId": "7510d2a5-43d0-4a6c-9751-a4e798b297b9"
      },
      "execution_count": null,
      "outputs": [
        {
          "output_type": "stream",
          "name": "stdout",
          "text": [
            "dt_object = 2022-09-19 00:00:00\n",
            "type(dt_object) = <class 'datetime.datetime'>\n"
          ]
        }
      ]
    },
    {
      "cell_type": "code",
      "source": [],
      "metadata": {
        "id": "VqK99oNuRdAE"
      },
      "execution_count": null,
      "outputs": []
    },
    {
      "cell_type": "markdown",
      "source": [
        "#### Extracting uniswapDayDates - fixed\n"
      ],
      "metadata": {
        "id": "4_m7s8TW9XLe"
      }
    },
    {
      "cell_type": "code",
      "source": [
        "\n",
        "query = \"\"\"\n",
        " query {\n",
        "  uniswapDayDatas (skip:%d , orderBy: date , orderDirection:desc)\n",
        "  {\n",
        "    id\n",
        "    date\n",
        "    volumeETH\n",
        "    volumeUSD\n",
        "    volumeUSDUntracked\n",
        "    feesUSD\n",
        "    txCount\n",
        "    totalValueLockedUSD\n",
        "  }\n",
        "}\n",
        "\"\"\"\n"
      ],
      "metadata": {
        "id": "Jb1-OhiJ9XLg"
      },
      "execution_count": 16,
      "outputs": []
    },
    {
      "cell_type": "code",
      "source": [
        " tdf = Extract_data(query, \"uniswapDayDatas\")\n",
        " tdf.info()"
      ],
      "metadata": {
        "colab": {
          "base_uri": "https://localhost:8080/"
        },
        "outputId": "e26bcbab-700f-4cd6-9564-7613ae5c7a70",
        "id": "R11XcwmP9XLh"
      },
      "execution_count": 17,
      "outputs": [
        {
          "output_type": "stream",
          "name": "stdout",
          "text": [
            "<class 'pandas.core.frame.DataFrame'>\n",
            "Int64Index: 510 entries, 0 to 9\n",
            "Data columns (total 8 columns):\n",
            " #   Column               Non-Null Count  Dtype \n",
            "---  ------               --------------  ----- \n",
            " 0   id                   510 non-null    object\n",
            " 1   date                 510 non-null    int64 \n",
            " 2   volumeETH            510 non-null    object\n",
            " 3   volumeUSD            510 non-null    object\n",
            " 4   volumeUSDUntracked   510 non-null    object\n",
            " 5   feesUSD              510 non-null    object\n",
            " 6   txCount              510 non-null    object\n",
            " 7   totalValueLockedUSD  510 non-null    object\n",
            "dtypes: int64(1), object(7)\n",
            "memory usage: 35.9+ KB\n"
          ]
        }
      ]
    },
    {
      "cell_type": "code",
      "source": [
        "tdf.head()"
      ],
      "metadata": {
        "colab": {
          "base_uri": "https://localhost:8080/",
          "height": 206
        },
        "outputId": "cb7674dc-c488-4cbd-fb0d-a2337b132592",
        "id": "bWHEjvu29XLi"
      },
      "execution_count": 18,
      "outputs": [
        {
          "output_type": "execute_result",
          "data": {
            "text/plain": [
              "      id        date                            volumeETH  \\\n",
              "0  19260  1664064000  42969.11178118112967491057937144147   \n",
              "1  19259  1663977600  411919.5931978148803080630661541877   \n",
              "2  19258  1663891200  685005.6839536820886578551170207149   \n",
              "3  19257  1663804800  677703.8465984614700705322348582553   \n",
              "4  19256  1663718400  833675.3990540668625873681126664709   \n",
              "\n",
              "                             volumeUSD volumeUSDUntracked  \\\n",
              "0  56784425.24970289075582547700084968                  0   \n",
              "1  548062411.0703528567599294927653008                  0   \n",
              "2  895772783.6724875607888060357901996                  0   \n",
              "3  869608446.7074058154525101431451115                  0   \n",
              "4  1100949362.682986266460852354188552                  0   \n",
              "\n",
              "                               feesUSD   txCount  \\\n",
              "0  66661.03247213506486039249977025225  20552673   \n",
              "1  607928.8584299254464370943424747866  20544737   \n",
              "2  1196587.672238011722724074517554304  20497170   \n",
              "3  1122345.964436474178128231235991568  20434882   \n",
              "4  1502881.791985075263067507843469826  20380129   \n",
              "\n",
              "                   totalValueLockedUSD  \n",
              "0  3779229052.854886037663166387200786  \n",
              "1  3764868751.944992447889140220913262  \n",
              "2  3768647803.232317866150488235632406  \n",
              "3  3747526534.756836015217784078925473  \n",
              "4  3560542287.328013172302979995699919  "
            ],
            "text/html": [
              "\n",
              "  <div id=\"df-1667f2eb-0053-49de-a3b6-acb2ca1c52b9\">\n",
              "    <div class=\"colab-df-container\">\n",
              "      <div>\n",
              "<style scoped>\n",
              "    .dataframe tbody tr th:only-of-type {\n",
              "        vertical-align: middle;\n",
              "    }\n",
              "\n",
              "    .dataframe tbody tr th {\n",
              "        vertical-align: top;\n",
              "    }\n",
              "\n",
              "    .dataframe thead th {\n",
              "        text-align: right;\n",
              "    }\n",
              "</style>\n",
              "<table border=\"1\" class=\"dataframe\">\n",
              "  <thead>\n",
              "    <tr style=\"text-align: right;\">\n",
              "      <th></th>\n",
              "      <th>id</th>\n",
              "      <th>date</th>\n",
              "      <th>volumeETH</th>\n",
              "      <th>volumeUSD</th>\n",
              "      <th>volumeUSDUntracked</th>\n",
              "      <th>feesUSD</th>\n",
              "      <th>txCount</th>\n",
              "      <th>totalValueLockedUSD</th>\n",
              "    </tr>\n",
              "  </thead>\n",
              "  <tbody>\n",
              "    <tr>\n",
              "      <th>0</th>\n",
              "      <td>19260</td>\n",
              "      <td>1664064000</td>\n",
              "      <td>42969.11178118112967491057937144147</td>\n",
              "      <td>56784425.24970289075582547700084968</td>\n",
              "      <td>0</td>\n",
              "      <td>66661.03247213506486039249977025225</td>\n",
              "      <td>20552673</td>\n",
              "      <td>3779229052.854886037663166387200786</td>\n",
              "    </tr>\n",
              "    <tr>\n",
              "      <th>1</th>\n",
              "      <td>19259</td>\n",
              "      <td>1663977600</td>\n",
              "      <td>411919.5931978148803080630661541877</td>\n",
              "      <td>548062411.0703528567599294927653008</td>\n",
              "      <td>0</td>\n",
              "      <td>607928.8584299254464370943424747866</td>\n",
              "      <td>20544737</td>\n",
              "      <td>3764868751.944992447889140220913262</td>\n",
              "    </tr>\n",
              "    <tr>\n",
              "      <th>2</th>\n",
              "      <td>19258</td>\n",
              "      <td>1663891200</td>\n",
              "      <td>685005.6839536820886578551170207149</td>\n",
              "      <td>895772783.6724875607888060357901996</td>\n",
              "      <td>0</td>\n",
              "      <td>1196587.672238011722724074517554304</td>\n",
              "      <td>20497170</td>\n",
              "      <td>3768647803.232317866150488235632406</td>\n",
              "    </tr>\n",
              "    <tr>\n",
              "      <th>3</th>\n",
              "      <td>19257</td>\n",
              "      <td>1663804800</td>\n",
              "      <td>677703.8465984614700705322348582553</td>\n",
              "      <td>869608446.7074058154525101431451115</td>\n",
              "      <td>0</td>\n",
              "      <td>1122345.964436474178128231235991568</td>\n",
              "      <td>20434882</td>\n",
              "      <td>3747526534.756836015217784078925473</td>\n",
              "    </tr>\n",
              "    <tr>\n",
              "      <th>4</th>\n",
              "      <td>19256</td>\n",
              "      <td>1663718400</td>\n",
              "      <td>833675.3990540668625873681126664709</td>\n",
              "      <td>1100949362.682986266460852354188552</td>\n",
              "      <td>0</td>\n",
              "      <td>1502881.791985075263067507843469826</td>\n",
              "      <td>20380129</td>\n",
              "      <td>3560542287.328013172302979995699919</td>\n",
              "    </tr>\n",
              "  </tbody>\n",
              "</table>\n",
              "</div>\n",
              "      <button class=\"colab-df-convert\" onclick=\"convertToInteractive('df-1667f2eb-0053-49de-a3b6-acb2ca1c52b9')\"\n",
              "              title=\"Convert this dataframe to an interactive table.\"\n",
              "              style=\"display:none;\">\n",
              "        \n",
              "  <svg xmlns=\"http://www.w3.org/2000/svg\" height=\"24px\"viewBox=\"0 0 24 24\"\n",
              "       width=\"24px\">\n",
              "    <path d=\"M0 0h24v24H0V0z\" fill=\"none\"/>\n",
              "    <path d=\"M18.56 5.44l.94 2.06.94-2.06 2.06-.94-2.06-.94-.94-2.06-.94 2.06-2.06.94zm-11 1L8.5 8.5l.94-2.06 2.06-.94-2.06-.94L8.5 2.5l-.94 2.06-2.06.94zm10 10l.94 2.06.94-2.06 2.06-.94-2.06-.94-.94-2.06-.94 2.06-2.06.94z\"/><path d=\"M17.41 7.96l-1.37-1.37c-.4-.4-.92-.59-1.43-.59-.52 0-1.04.2-1.43.59L10.3 9.45l-7.72 7.72c-.78.78-.78 2.05 0 2.83L4 21.41c.39.39.9.59 1.41.59.51 0 1.02-.2 1.41-.59l7.78-7.78 2.81-2.81c.8-.78.8-2.07 0-2.86zM5.41 20L4 18.59l7.72-7.72 1.47 1.35L5.41 20z\"/>\n",
              "  </svg>\n",
              "      </button>\n",
              "      \n",
              "  <style>\n",
              "    .colab-df-container {\n",
              "      display:flex;\n",
              "      flex-wrap:wrap;\n",
              "      gap: 12px;\n",
              "    }\n",
              "\n",
              "    .colab-df-convert {\n",
              "      background-color: #E8F0FE;\n",
              "      border: none;\n",
              "      border-radius: 50%;\n",
              "      cursor: pointer;\n",
              "      display: none;\n",
              "      fill: #1967D2;\n",
              "      height: 32px;\n",
              "      padding: 0 0 0 0;\n",
              "      width: 32px;\n",
              "    }\n",
              "\n",
              "    .colab-df-convert:hover {\n",
              "      background-color: #E2EBFA;\n",
              "      box-shadow: 0px 1px 2px rgba(60, 64, 67, 0.3), 0px 1px 3px 1px rgba(60, 64, 67, 0.15);\n",
              "      fill: #174EA6;\n",
              "    }\n",
              "\n",
              "    [theme=dark] .colab-df-convert {\n",
              "      background-color: #3B4455;\n",
              "      fill: #D2E3FC;\n",
              "    }\n",
              "\n",
              "    [theme=dark] .colab-df-convert:hover {\n",
              "      background-color: #434B5C;\n",
              "      box-shadow: 0px 1px 3px 1px rgba(0, 0, 0, 0.15);\n",
              "      filter: drop-shadow(0px 1px 2px rgba(0, 0, 0, 0.3));\n",
              "      fill: #FFFFFF;\n",
              "    }\n",
              "  </style>\n",
              "\n",
              "      <script>\n",
              "        const buttonEl =\n",
              "          document.querySelector('#df-1667f2eb-0053-49de-a3b6-acb2ca1c52b9 button.colab-df-convert');\n",
              "        buttonEl.style.display =\n",
              "          google.colab.kernel.accessAllowed ? 'block' : 'none';\n",
              "\n",
              "        async function convertToInteractive(key) {\n",
              "          const element = document.querySelector('#df-1667f2eb-0053-49de-a3b6-acb2ca1c52b9');\n",
              "          const dataTable =\n",
              "            await google.colab.kernel.invokeFunction('convertToInteractive',\n",
              "                                                     [key], {});\n",
              "          if (!dataTable) return;\n",
              "\n",
              "          const docLinkHtml = 'Like what you see? Visit the ' +\n",
              "            '<a target=\"_blank\" href=https://colab.research.google.com/notebooks/data_table.ipynb>data table notebook</a>'\n",
              "            + ' to learn more about interactive tables.';\n",
              "          element.innerHTML = '';\n",
              "          dataTable['output_type'] = 'display_data';\n",
              "          await google.colab.output.renderOutput(dataTable, element);\n",
              "          const docLink = document.createElement('div');\n",
              "          docLink.innerHTML = docLinkHtml;\n",
              "          element.appendChild(docLink);\n",
              "        }\n",
              "      </script>\n",
              "    </div>\n",
              "  </div>\n",
              "  "
            ]
          },
          "metadata": {},
          "execution_count": 18
        }
      ]
    },
    {
      "cell_type": "code",
      "source": [
        "tdf.to_csv('uniswapDayDatas_fixed.csv',index=False)"
      ],
      "metadata": {
        "id": "nWGVYbrX9XLj"
      },
      "execution_count": 19,
      "outputs": []
    },
    {
      "cell_type": "code",
      "source": [],
      "metadata": {
        "colab": {
          "base_uri": "https://localhost:8080/"
        },
        "outputId": "7510d2a5-43d0-4a6c-9751-a4e798b297b9",
        "id": "ipKUNg9g9XLj"
      },
      "execution_count": null,
      "outputs": [
        {
          "output_type": "stream",
          "name": "stdout",
          "text": [
            "dt_object = 2022-09-19 00:00:00\n",
            "type(dt_object) = <class 'datetime.datetime'>\n"
          ]
        }
      ]
    },
    {
      "cell_type": "code",
      "source": [],
      "metadata": {
        "id": "XvxeHtHy9XLk"
      },
      "execution_count": null,
      "outputs": []
    },
    {
      "cell_type": "code",
      "source": [],
      "metadata": {
        "id": "UtK3LbUk9XLk"
      },
      "execution_count": null,
      "outputs": []
    },
    {
      "cell_type": "code",
      "source": [],
      "metadata": {
        "id": "Ti5LTIa3VA76"
      },
      "execution_count": null,
      "outputs": []
    },
    {
      "cell_type": "markdown",
      "source": [
        "#### Extracting mints"
      ],
      "metadata": {
        "id": "Fy12PCxW6mCs"
      }
    },
    {
      "cell_type": "code",
      "source": [
        "def Extracting_mints_bypoolid (pool_id):\n",
        "  #old URL\n",
        "  #url = 'https://api.thegraph.com/subgraphs/name/uniswap/uniswap-v3'\n",
        "  # new URL / after the update \n",
        "  url = 'https://api.thegraph.com/subgraphs/name/ianlapham/v3-minimal'\n",
        "  frames = []\n",
        "  query = \"\"\"query {\n",
        "    mints ( where : {pool : \"%s\" , timestamp_gt : %d}, orderBy: timestamp, orderDirection: asc)\n",
        "  {\n",
        "    timestamp\n",
        "    owner\n",
        "    sender\n",
        "    amountUSD\n",
        "    amount0\n",
        "    amount1\n",
        "  }\n",
        "  }\"\"\"\n",
        "  ts = 0 \n",
        "  while ( ts < 1663941971):\n",
        "    #print(\"start\")\n",
        "    tmp_query = query%(pool_id,ts)\n",
        "    r = requests.post(url, json={'query': tmp_query})\n",
        "    json_data = json.loads(r.text)\n",
        "    try:\n",
        "      df_data = json_data['data'][\"mints\"]\n",
        "      df = pd.DataFrame(df_data)\n",
        "      ts = int (df.iloc[-1:][\"timestamp\"])\n",
        "      #print (ts)\n",
        "      frames.append(df)\n",
        "    except KeyError:\n",
        "      break\n",
        "    #print(\"end\")\n",
        "    \n",
        "\n",
        "  result_mint = pd.concat(frames)\n",
        "  result_mint['timestamp'] = pd.to_datetime(result_mint['timestamp'], unit='s')\n",
        "  result_mint[[\"amountUSD\",\"amount0\",\"amount1\"]] = result_mint[[\"amountUSD\",\"amount0\",\"amount1\"]].apply(pd.to_numeric)\n",
        "  result_mint['type'] = 'mint'\n",
        "  result_mint['Pool'] = pool_id\n",
        "\n",
        "  return result_mint"
      ],
      "metadata": {
        "id": "0s_3QjAS6puc"
      },
      "execution_count": null,
      "outputs": []
    },
    {
      "cell_type": "code",
      "source": [
        "dai_usdc100_mints = Extracting_mints_bypoolid(dai_usdc100_id)\n",
        "dai_usdc100_mints.info()"
      ],
      "metadata": {
        "colab": {
          "base_uri": "https://localhost:8080/"
        },
        "id": "D4It-VBP9paK",
        "outputId": "db092800-132d-4113-b42c-536ab042ef0b"
      },
      "execution_count": null,
      "outputs": [
        {
          "output_type": "stream",
          "name": "stdout",
          "text": [
            "<class 'pandas.core.frame.DataFrame'>\n",
            "Int64Index: 2176 entries, 0 to 75\n",
            "Data columns (total 8 columns):\n",
            " #   Column     Non-Null Count  Dtype         \n",
            "---  ------     --------------  -----         \n",
            " 0   timestamp  2176 non-null   datetime64[ns]\n",
            " 1   owner      2176 non-null   object        \n",
            " 2   sender     2176 non-null   object        \n",
            " 3   amountUSD  2176 non-null   float64       \n",
            " 4   amount0    2176 non-null   float64       \n",
            " 5   amount1    2176 non-null   float64       \n",
            " 6   type       2176 non-null   object        \n",
            " 7   Pool       2176 non-null   object        \n",
            "dtypes: datetime64[ns](1), float64(3), object(4)\n",
            "memory usage: 153.0+ KB\n"
          ]
        }
      ]
    },
    {
      "cell_type": "code",
      "source": [
        "usdc_WETH_3000_mints = Extracting_mints_bypoolid(usdc_WETH_3000_id)\n",
        "usdc_WETH_3000_mints.info()"
      ],
      "metadata": {
        "colab": {
          "base_uri": "https://localhost:8080/"
        },
        "id": "qTPV3U0Y_k9J",
        "outputId": "153a626d-3ad3-4533-f2f7-7a581505d879"
      },
      "execution_count": null,
      "outputs": [
        {
          "output_type": "stream",
          "name": "stdout",
          "text": [
            "<class 'pandas.core.frame.DataFrame'>\n",
            "Int64Index: 70152 entries, 0 to 51\n",
            "Data columns (total 8 columns):\n",
            " #   Column     Non-Null Count  Dtype         \n",
            "---  ------     --------------  -----         \n",
            " 0   timestamp  70152 non-null  datetime64[ns]\n",
            " 1   owner      70152 non-null  object        \n",
            " 2   sender     70152 non-null  object        \n",
            " 3   amountUSD  70152 non-null  float64       \n",
            " 4   amount0    70152 non-null  float64       \n",
            " 5   amount1    70152 non-null  float64       \n",
            " 6   type       70152 non-null  object        \n",
            " 7   Pool       70152 non-null  object        \n",
            "dtypes: datetime64[ns](1), float64(3), object(4)\n",
            "memory usage: 4.8+ MB\n"
          ]
        }
      ]
    },
    {
      "cell_type": "code",
      "source": [
        "wbtc_WETH_3000_mints = Extracting_mints_bypoolid(wbtc_WETH_3000_id)\n",
        "wbtc_WETH_3000_mints.info()"
      ],
      "metadata": {
        "colab": {
          "base_uri": "https://localhost:8080/"
        },
        "id": "d4nhexLzPnon",
        "outputId": "01ec5e5f-4002-451a-af84-963874ae478d"
      },
      "execution_count": null,
      "outputs": [
        {
          "output_type": "stream",
          "name": "stdout",
          "text": [
            "<class 'pandas.core.frame.DataFrame'>\n",
            "Int64Index: 16159 entries, 0 to 58\n",
            "Data columns (total 8 columns):\n",
            " #   Column     Non-Null Count  Dtype         \n",
            "---  ------     --------------  -----         \n",
            " 0   timestamp  16159 non-null  datetime64[ns]\n",
            " 1   owner      16159 non-null  object        \n",
            " 2   sender     16159 non-null  object        \n",
            " 3   amountUSD  16159 non-null  float64       \n",
            " 4   amount0    16159 non-null  float64       \n",
            " 5   amount1    16159 non-null  float64       \n",
            " 6   type       16159 non-null  object        \n",
            " 7   Pool       16159 non-null  object        \n",
            "dtypes: datetime64[ns](1), float64(3), object(4)\n",
            "memory usage: 1.1+ MB\n"
          ]
        }
      ]
    },
    {
      "cell_type": "code",
      "source": [
        "uni_WETH_3000_mints = Extracting_mints_bypoolid(UNI_WETH_3000_id)\n",
        "uni_WETH_3000_mints.info()"
      ],
      "metadata": {
        "colab": {
          "base_uri": "https://localhost:8080/"
        },
        "id": "rK0eZLkRP6cW",
        "outputId": "c8fb8d6f-6dc9-4f0c-cf55-ca4d62ac4a55"
      },
      "execution_count": null,
      "outputs": [
        {
          "output_type": "stream",
          "name": "stdout",
          "text": [
            "<class 'pandas.core.frame.DataFrame'>\n",
            "Int64Index: 10798 entries, 0 to 97\n",
            "Data columns (total 8 columns):\n",
            " #   Column     Non-Null Count  Dtype         \n",
            "---  ------     --------------  -----         \n",
            " 0   timestamp  10798 non-null  datetime64[ns]\n",
            " 1   owner      10798 non-null  object        \n",
            " 2   sender     10798 non-null  object        \n",
            " 3   amountUSD  10798 non-null  float64       \n",
            " 4   amount0    10798 non-null  float64       \n",
            " 5   amount1    10798 non-null  float64       \n",
            " 6   type       10798 non-null  object        \n",
            " 7   Pool       10798 non-null  object        \n",
            "dtypes: datetime64[ns](1), float64(3), object(4)\n",
            "memory usage: 759.2+ KB\n"
          ]
        }
      ]
    },
    {
      "cell_type": "code",
      "source": [
        "result = pd.concat([uni_WETH_3000_mints,wbtc_WETH_3000_mints,usdc_WETH_3000_mints,dai_usdc100_mints])\n",
        "result.info()"
      ],
      "metadata": {
        "colab": {
          "base_uri": "https://localhost:8080/"
        },
        "id": "_HgMC5dMQDyl",
        "outputId": "619a2c34-7f26-4755-8485-19c3b85e435c"
      },
      "execution_count": null,
      "outputs": [
        {
          "output_type": "stream",
          "name": "stdout",
          "text": [
            "<class 'pandas.core.frame.DataFrame'>\n",
            "Int64Index: 99285 entries, 0 to 75\n",
            "Data columns (total 8 columns):\n",
            " #   Column     Non-Null Count  Dtype         \n",
            "---  ------     --------------  -----         \n",
            " 0   timestamp  99285 non-null  datetime64[ns]\n",
            " 1   owner      99285 non-null  object        \n",
            " 2   sender     99285 non-null  object        \n",
            " 3   amountUSD  99285 non-null  float64       \n",
            " 4   amount0    99285 non-null  float64       \n",
            " 5   amount1    99285 non-null  float64       \n",
            " 6   type       99285 non-null  object        \n",
            " 7   Pool       99285 non-null  object        \n",
            "dtypes: datetime64[ns](1), float64(3), object(4)\n",
            "memory usage: 6.8+ MB\n"
          ]
        }
      ]
    },
    {
      "cell_type": "code",
      "source": [
        "result.head()"
      ],
      "metadata": {
        "colab": {
          "base_uri": "https://localhost:8080/",
          "height": 206
        },
        "id": "w1StBg2_R1kd",
        "outputId": "2d32dd25-e2ad-40f8-fb8e-ccd1bc07e366"
      },
      "execution_count": null,
      "outputs": [
        {
          "output_type": "execute_result",
          "data": {
            "text/plain": [
              "            timestamp                                       owner  \\\n",
              "0 2021-05-04 19:52:36  0xc36442b4a4522e871399cd717abdd847ab11fe88   \n",
              "1 2021-05-04 21:18:54  0xc36442b4a4522e871399cd717abdd847ab11fe88   \n",
              "2 2021-05-05 05:07:53  0xc36442b4a4522e871399cd717abdd847ab11fe88   \n",
              "3 2021-05-05 17:53:35  0xc36442b4a4522e871399cd717abdd847ab11fe88   \n",
              "4 2021-05-05 17:59:11  0xc36442b4a4522e871399cd717abdd847ab11fe88   \n",
              "\n",
              "                                       sender    amountUSD   amount0  \\\n",
              "0  0xc36442b4a4522e871399cd717abdd847ab11fe88     0.000000   1.00000   \n",
              "1  0xc36442b4a4522e871399cd717abdd847ab11fe88     0.000000   2.00000   \n",
              "2  0xc36442b4a4522e871399cd717abdd847ab11fe88   165.300088  14.04478   \n",
              "3  0xc36442b4a4522e871399cd717abdd847ab11fe88  3959.772614  90.00000   \n",
              "4  0xc36442b4a4522e871399cd717abdd847ab11fe88     0.410775   0.03000   \n",
              "\n",
              "    amount1  type                                        Pool  \n",
              "0  0.012644  mint  0x1d42064fc4beb5f8aaf85f4617ae8b3b5b8bd801  \n",
              "1  0.014191  mint  0x1d42064fc4beb5f8aaf85f4617ae8b3b5b8bd801  \n",
              "2  0.050000  mint  0x1d42064fc4beb5f8aaf85f4617ae8b3b5b8bd801  \n",
              "3  1.184419  mint  0x1d42064fc4beb5f8aaf85f4617ae8b3b5b8bd801  \n",
              "4  0.000123  mint  0x1d42064fc4beb5f8aaf85f4617ae8b3b5b8bd801  "
            ],
            "text/html": [
              "\n",
              "  <div id=\"df-d2981c66-054d-436c-aa6b-64d447447605\">\n",
              "    <div class=\"colab-df-container\">\n",
              "      <div>\n",
              "<style scoped>\n",
              "    .dataframe tbody tr th:only-of-type {\n",
              "        vertical-align: middle;\n",
              "    }\n",
              "\n",
              "    .dataframe tbody tr th {\n",
              "        vertical-align: top;\n",
              "    }\n",
              "\n",
              "    .dataframe thead th {\n",
              "        text-align: right;\n",
              "    }\n",
              "</style>\n",
              "<table border=\"1\" class=\"dataframe\">\n",
              "  <thead>\n",
              "    <tr style=\"text-align: right;\">\n",
              "      <th></th>\n",
              "      <th>timestamp</th>\n",
              "      <th>owner</th>\n",
              "      <th>sender</th>\n",
              "      <th>amountUSD</th>\n",
              "      <th>amount0</th>\n",
              "      <th>amount1</th>\n",
              "      <th>type</th>\n",
              "      <th>Pool</th>\n",
              "    </tr>\n",
              "  </thead>\n",
              "  <tbody>\n",
              "    <tr>\n",
              "      <th>0</th>\n",
              "      <td>2021-05-04 19:52:36</td>\n",
              "      <td>0xc36442b4a4522e871399cd717abdd847ab11fe88</td>\n",
              "      <td>0xc36442b4a4522e871399cd717abdd847ab11fe88</td>\n",
              "      <td>0.000000</td>\n",
              "      <td>1.00000</td>\n",
              "      <td>0.012644</td>\n",
              "      <td>mint</td>\n",
              "      <td>0x1d42064fc4beb5f8aaf85f4617ae8b3b5b8bd801</td>\n",
              "    </tr>\n",
              "    <tr>\n",
              "      <th>1</th>\n",
              "      <td>2021-05-04 21:18:54</td>\n",
              "      <td>0xc36442b4a4522e871399cd717abdd847ab11fe88</td>\n",
              "      <td>0xc36442b4a4522e871399cd717abdd847ab11fe88</td>\n",
              "      <td>0.000000</td>\n",
              "      <td>2.00000</td>\n",
              "      <td>0.014191</td>\n",
              "      <td>mint</td>\n",
              "      <td>0x1d42064fc4beb5f8aaf85f4617ae8b3b5b8bd801</td>\n",
              "    </tr>\n",
              "    <tr>\n",
              "      <th>2</th>\n",
              "      <td>2021-05-05 05:07:53</td>\n",
              "      <td>0xc36442b4a4522e871399cd717abdd847ab11fe88</td>\n",
              "      <td>0xc36442b4a4522e871399cd717abdd847ab11fe88</td>\n",
              "      <td>165.300088</td>\n",
              "      <td>14.04478</td>\n",
              "      <td>0.050000</td>\n",
              "      <td>mint</td>\n",
              "      <td>0x1d42064fc4beb5f8aaf85f4617ae8b3b5b8bd801</td>\n",
              "    </tr>\n",
              "    <tr>\n",
              "      <th>3</th>\n",
              "      <td>2021-05-05 17:53:35</td>\n",
              "      <td>0xc36442b4a4522e871399cd717abdd847ab11fe88</td>\n",
              "      <td>0xc36442b4a4522e871399cd717abdd847ab11fe88</td>\n",
              "      <td>3959.772614</td>\n",
              "      <td>90.00000</td>\n",
              "      <td>1.184419</td>\n",
              "      <td>mint</td>\n",
              "      <td>0x1d42064fc4beb5f8aaf85f4617ae8b3b5b8bd801</td>\n",
              "    </tr>\n",
              "    <tr>\n",
              "      <th>4</th>\n",
              "      <td>2021-05-05 17:59:11</td>\n",
              "      <td>0xc36442b4a4522e871399cd717abdd847ab11fe88</td>\n",
              "      <td>0xc36442b4a4522e871399cd717abdd847ab11fe88</td>\n",
              "      <td>0.410775</td>\n",
              "      <td>0.03000</td>\n",
              "      <td>0.000123</td>\n",
              "      <td>mint</td>\n",
              "      <td>0x1d42064fc4beb5f8aaf85f4617ae8b3b5b8bd801</td>\n",
              "    </tr>\n",
              "  </tbody>\n",
              "</table>\n",
              "</div>\n",
              "      <button class=\"colab-df-convert\" onclick=\"convertToInteractive('df-d2981c66-054d-436c-aa6b-64d447447605')\"\n",
              "              title=\"Convert this dataframe to an interactive table.\"\n",
              "              style=\"display:none;\">\n",
              "        \n",
              "  <svg xmlns=\"http://www.w3.org/2000/svg\" height=\"24px\"viewBox=\"0 0 24 24\"\n",
              "       width=\"24px\">\n",
              "    <path d=\"M0 0h24v24H0V0z\" fill=\"none\"/>\n",
              "    <path d=\"M18.56 5.44l.94 2.06.94-2.06 2.06-.94-2.06-.94-.94-2.06-.94 2.06-2.06.94zm-11 1L8.5 8.5l.94-2.06 2.06-.94-2.06-.94L8.5 2.5l-.94 2.06-2.06.94zm10 10l.94 2.06.94-2.06 2.06-.94-2.06-.94-.94-2.06-.94 2.06-2.06.94z\"/><path d=\"M17.41 7.96l-1.37-1.37c-.4-.4-.92-.59-1.43-.59-.52 0-1.04.2-1.43.59L10.3 9.45l-7.72 7.72c-.78.78-.78 2.05 0 2.83L4 21.41c.39.39.9.59 1.41.59.51 0 1.02-.2 1.41-.59l7.78-7.78 2.81-2.81c.8-.78.8-2.07 0-2.86zM5.41 20L4 18.59l7.72-7.72 1.47 1.35L5.41 20z\"/>\n",
              "  </svg>\n",
              "      </button>\n",
              "      \n",
              "  <style>\n",
              "    .colab-df-container {\n",
              "      display:flex;\n",
              "      flex-wrap:wrap;\n",
              "      gap: 12px;\n",
              "    }\n",
              "\n",
              "    .colab-df-convert {\n",
              "      background-color: #E8F0FE;\n",
              "      border: none;\n",
              "      border-radius: 50%;\n",
              "      cursor: pointer;\n",
              "      display: none;\n",
              "      fill: #1967D2;\n",
              "      height: 32px;\n",
              "      padding: 0 0 0 0;\n",
              "      width: 32px;\n",
              "    }\n",
              "\n",
              "    .colab-df-convert:hover {\n",
              "      background-color: #E2EBFA;\n",
              "      box-shadow: 0px 1px 2px rgba(60, 64, 67, 0.3), 0px 1px 3px 1px rgba(60, 64, 67, 0.15);\n",
              "      fill: #174EA6;\n",
              "    }\n",
              "\n",
              "    [theme=dark] .colab-df-convert {\n",
              "      background-color: #3B4455;\n",
              "      fill: #D2E3FC;\n",
              "    }\n",
              "\n",
              "    [theme=dark] .colab-df-convert:hover {\n",
              "      background-color: #434B5C;\n",
              "      box-shadow: 0px 1px 3px 1px rgba(0, 0, 0, 0.15);\n",
              "      filter: drop-shadow(0px 1px 2px rgba(0, 0, 0, 0.3));\n",
              "      fill: #FFFFFF;\n",
              "    }\n",
              "  </style>\n",
              "\n",
              "      <script>\n",
              "        const buttonEl =\n",
              "          document.querySelector('#df-d2981c66-054d-436c-aa6b-64d447447605 button.colab-df-convert');\n",
              "        buttonEl.style.display =\n",
              "          google.colab.kernel.accessAllowed ? 'block' : 'none';\n",
              "\n",
              "        async function convertToInteractive(key) {\n",
              "          const element = document.querySelector('#df-d2981c66-054d-436c-aa6b-64d447447605');\n",
              "          const dataTable =\n",
              "            await google.colab.kernel.invokeFunction('convertToInteractive',\n",
              "                                                     [key], {});\n",
              "          if (!dataTable) return;\n",
              "\n",
              "          const docLinkHtml = 'Like what you see? Visit the ' +\n",
              "            '<a target=\"_blank\" href=https://colab.research.google.com/notebooks/data_table.ipynb>data table notebook</a>'\n",
              "            + ' to learn more about interactive tables.';\n",
              "          element.innerHTML = '';\n",
              "          dataTable['output_type'] = 'display_data';\n",
              "          await google.colab.output.renderOutput(dataTable, element);\n",
              "          const docLink = document.createElement('div');\n",
              "          docLink.innerHTML = docLinkHtml;\n",
              "          element.appendChild(docLink);\n",
              "        }\n",
              "      </script>\n",
              "    </div>\n",
              "  </div>\n",
              "  "
            ]
          },
          "metadata": {},
          "execution_count": 97
        }
      ]
    },
    {
      "cell_type": "code",
      "source": [
        "result.to_csv(\"Mints.csv\")"
      ],
      "metadata": {
        "id": "03pXeo6cR4o-"
      },
      "execution_count": null,
      "outputs": []
    },
    {
      "cell_type": "code",
      "source": [],
      "metadata": {
        "id": "cclih_8bUEvd"
      },
      "execution_count": null,
      "outputs": []
    },
    {
      "cell_type": "markdown",
      "source": [
        "#### Extracting burns"
      ],
      "metadata": {
        "id": "K4wZ-8qzUVvJ"
      }
    },
    {
      "cell_type": "code",
      "source": [
        "def Extracting_burns_bypoolid (pool_id):\n",
        "  #old URL\n",
        "  #url = 'https://api.thegraph.com/subgraphs/name/uniswap/uniswap-v3'\n",
        "  # new URL / after the update \n",
        "  url = 'https://api.thegraph.com/subgraphs/name/ianlapham/v3-minimal'\n",
        "  frames = []\n",
        "  query = \"\"\"query {\n",
        "    burns ( where : {pool : \"%s\" , timestamp_gt : %d}, orderBy: timestamp, orderDirection: asc)\n",
        "  {\n",
        "    timestamp\n",
        "    owner\n",
        "    origin\n",
        "    amountUSD\n",
        "    amount0\n",
        "    amount1\n",
        "  }\n",
        "  }\"\"\"\n",
        "  ts = 0 \n",
        "  while ( ts < 1663941971):\n",
        "    #print(\"start\")\n",
        "    tmp_query = query%(pool_id,ts)\n",
        "    r = requests.post(url, json={'query': tmp_query})\n",
        "    json_data = json.loads(r.text)\n",
        "    try:\n",
        "      df_data = json_data['data'][\"burns\"]\n",
        "      df = pd.DataFrame(df_data)\n",
        "      ts = int (df.iloc[-1:][\"timestamp\"])\n",
        "      #print (ts)\n",
        "      frames.append(df)\n",
        "    except KeyError:\n",
        "      break\n",
        "    #print(\"end\")\n",
        "    \n",
        "\n",
        "  result_mint = pd.concat(frames)\n",
        "  result_mint['timestamp'] = pd.to_datetime(result_mint['timestamp'], unit='s')\n",
        "  result_mint[[\"amountUSD\",\"amount0\",\"amount1\"]] = result_mint[[\"amountUSD\",\"amount0\",\"amount1\"]].apply(pd.to_numeric)\n",
        "  result_mint['type'] = 'burn'\n",
        "  result_mint['Pool'] = pool_id\n",
        "\n",
        "  return result_mint"
      ],
      "metadata": {
        "id": "6ka6YtytUVvL"
      },
      "execution_count": null,
      "outputs": []
    },
    {
      "cell_type": "code",
      "source": [
        "dai_usdc100_burns = Extracting_burns_bypoolid(dai_usdc100_id)\n",
        "dai_usdc100_burns.info()"
      ],
      "metadata": {
        "colab": {
          "base_uri": "https://localhost:8080/"
        },
        "outputId": "0c9d17fe-7981-466b-f124-55f83ea73b2d",
        "id": "k4bNE-LhUVvM"
      },
      "execution_count": null,
      "outputs": [
        {
          "output_type": "stream",
          "name": "stdout",
          "text": [
            "<class 'pandas.core.frame.DataFrame'>\n",
            "Int64Index: 1400 entries, 0 to 99\n",
            "Data columns (total 8 columns):\n",
            " #   Column     Non-Null Count  Dtype         \n",
            "---  ------     --------------  -----         \n",
            " 0   timestamp  1400 non-null   datetime64[ns]\n",
            " 1   owner      1400 non-null   object        \n",
            " 2   origin     1400 non-null   object        \n",
            " 3   amountUSD  1400 non-null   float64       \n",
            " 4   amount0    1400 non-null   float64       \n",
            " 5   amount1    1400 non-null   float64       \n",
            " 6   type       1400 non-null   object        \n",
            " 7   Pool       1400 non-null   object        \n",
            "dtypes: datetime64[ns](1), float64(3), object(4)\n",
            "memory usage: 98.4+ KB\n"
          ]
        }
      ]
    },
    {
      "cell_type": "code",
      "source": [
        "usdc_WETH_3000_burns = Extracting_burns_bypoolid(usdc_WETH_3000_id)\n",
        "usdc_WETH_3000_burns.info()"
      ],
      "metadata": {
        "colab": {
          "base_uri": "https://localhost:8080/"
        },
        "outputId": "a8c930a7-812e-42fc-d129-43dde5cc88dc",
        "id": "i4rdQGKRUVvO"
      },
      "execution_count": null,
      "outputs": [
        {
          "output_type": "stream",
          "name": "stdout",
          "text": [
            "<class 'pandas.core.frame.DataFrame'>\n",
            "Int64Index: 65741 entries, 0 to 40\n",
            "Data columns (total 8 columns):\n",
            " #   Column     Non-Null Count  Dtype         \n",
            "---  ------     --------------  -----         \n",
            " 0   timestamp  65741 non-null  datetime64[ns]\n",
            " 1   owner      65741 non-null  object        \n",
            " 2   origin     65741 non-null  object        \n",
            " 3   amountUSD  65741 non-null  float64       \n",
            " 4   amount0    65741 non-null  float64       \n",
            " 5   amount1    65741 non-null  float64       \n",
            " 6   type       65741 non-null  object        \n",
            " 7   Pool       65741 non-null  object        \n",
            "dtypes: datetime64[ns](1), float64(3), object(4)\n",
            "memory usage: 4.5+ MB\n"
          ]
        }
      ]
    },
    {
      "cell_type": "code",
      "source": [
        "wbtc_WETH_3000_burns = Extracting_burns_bypoolid(wbtc_WETH_3000_id)\n",
        "wbtc_WETH_3000_burns.info()"
      ],
      "metadata": {
        "colab": {
          "base_uri": "https://localhost:8080/"
        },
        "outputId": "0d234ead-4a7c-4f17-ee07-4e3ad2033820",
        "id": "cxi23DCqUVvP"
      },
      "execution_count": null,
      "outputs": [
        {
          "output_type": "stream",
          "name": "stdout",
          "text": [
            "<class 'pandas.core.frame.DataFrame'>\n",
            "Int64Index: 19000 entries, 0 to 99\n",
            "Data columns (total 8 columns):\n",
            " #   Column     Non-Null Count  Dtype         \n",
            "---  ------     --------------  -----         \n",
            " 0   timestamp  19000 non-null  datetime64[ns]\n",
            " 1   owner      19000 non-null  object        \n",
            " 2   origin     19000 non-null  object        \n",
            " 3   amountUSD  19000 non-null  float64       \n",
            " 4   amount0    19000 non-null  float64       \n",
            " 5   amount1    19000 non-null  float64       \n",
            " 6   type       19000 non-null  object        \n",
            " 7   Pool       19000 non-null  object        \n",
            "dtypes: datetime64[ns](1), float64(3), object(4)\n",
            "memory usage: 1.3+ MB\n"
          ]
        }
      ]
    },
    {
      "cell_type": "code",
      "source": [
        "uni_WETH_3000_burns = Extracting_burns_bypoolid(UNI_WETH_3000_id)\n",
        "uni_WETH_3000_burns.info()"
      ],
      "metadata": {
        "colab": {
          "base_uri": "https://localhost:8080/"
        },
        "outputId": "bd6575aa-1ebf-4548-8b38-0e6946092324",
        "id": "92zQgx53UVvQ"
      },
      "execution_count": null,
      "outputs": [
        {
          "output_type": "stream",
          "name": "stdout",
          "text": [
            "<class 'pandas.core.frame.DataFrame'>\n",
            "Int64Index: 10736 entries, 0 to 35\n",
            "Data columns (total 8 columns):\n",
            " #   Column     Non-Null Count  Dtype         \n",
            "---  ------     --------------  -----         \n",
            " 0   timestamp  10736 non-null  datetime64[ns]\n",
            " 1   owner      10736 non-null  object        \n",
            " 2   origin     10736 non-null  object        \n",
            " 3   amountUSD  10736 non-null  float64       \n",
            " 4   amount0    10736 non-null  float64       \n",
            " 5   amount1    10736 non-null  float64       \n",
            " 6   type       10736 non-null  object        \n",
            " 7   Pool       10736 non-null  object        \n",
            "dtypes: datetime64[ns](1), float64(3), object(4)\n",
            "memory usage: 754.9+ KB\n"
          ]
        }
      ]
    },
    {
      "cell_type": "code",
      "source": [
        "result = pd.concat([uni_WETH_3000_burns,wbtc_WETH_3000_burns,usdc_WETH_3000_burns,dai_usdc100_burns])\n",
        "result.info()"
      ],
      "metadata": {
        "colab": {
          "base_uri": "https://localhost:8080/"
        },
        "outputId": "4b06025d-c5fc-41b4-f960-14232782a751",
        "id": "aGZWQWXmUVvR"
      },
      "execution_count": null,
      "outputs": [
        {
          "output_type": "stream",
          "name": "stdout",
          "text": [
            "<class 'pandas.core.frame.DataFrame'>\n",
            "Int64Index: 96877 entries, 0 to 99\n",
            "Data columns (total 8 columns):\n",
            " #   Column     Non-Null Count  Dtype         \n",
            "---  ------     --------------  -----         \n",
            " 0   timestamp  96877 non-null  datetime64[ns]\n",
            " 1   owner      96877 non-null  object        \n",
            " 2   origin     96877 non-null  object        \n",
            " 3   amountUSD  96877 non-null  float64       \n",
            " 4   amount0    96877 non-null  float64       \n",
            " 5   amount1    96877 non-null  float64       \n",
            " 6   type       96877 non-null  object        \n",
            " 7   Pool       96877 non-null  object        \n",
            "dtypes: datetime64[ns](1), float64(3), object(4)\n",
            "memory usage: 6.7+ MB\n"
          ]
        }
      ]
    },
    {
      "cell_type": "code",
      "source": [
        "result.head()"
      ],
      "metadata": {
        "colab": {
          "base_uri": "https://localhost:8080/",
          "height": 206
        },
        "outputId": "30b197dd-b21c-4948-9798-5eaba6dc9fc3",
        "id": "sCuHxmdYUVvR"
      },
      "execution_count": null,
      "outputs": [
        {
          "output_type": "execute_result",
          "data": {
            "text/plain": [
              "            timestamp                                       owner  \\\n",
              "0 2021-05-05 20:33:42  0xc36442b4a4522e871399cd717abdd847ab11fe88   \n",
              "1 2021-05-05 20:46:23  0xc36442b4a4522e871399cd717abdd847ab11fe88   \n",
              "2 2021-05-05 20:46:23  0xc36442b4a4522e871399cd717abdd847ab11fe88   \n",
              "3 2021-05-05 20:52:24  0xc36442b4a4522e871399cd717abdd847ab11fe88   \n",
              "4 2021-05-05 20:52:24  0xc36442b4a4522e871399cd717abdd847ab11fe88   \n",
              "\n",
              "                                       origin     amountUSD     amount0  \\\n",
              "0  0xd753e7e9665aeca31a2c3d98accab5ccb1cc6afb  10225.762335  121.068093   \n",
              "1  0x224e69025a2f705c8f31efb6694398f8fd09ac5c   1362.460988   16.308053   \n",
              "2  0x224e69025a2f705c8f31efb6694398f8fd09ac5c      0.000000    0.000000   \n",
              "3  0x741a9c2287e3f91d5f5e57cd3d0ccde375219109   5835.852481    9.130709   \n",
              "4  0x741a9c2287e3f91d5f5e57cd3d0ccde375219109      0.000000    0.000000   \n",
              "\n",
              "    amount1  type                                        Pool  \n",
              "0  1.498881  burn  0x1d42064fc4beb5f8aaf85f4617ae8b3b5b8bd801  \n",
              "1  0.195133  burn  0x1d42064fc4beb5f8aaf85f4617ae8b3b5b8bd801  \n",
              "2  0.000000  burn  0x1d42064fc4beb5f8aaf85f4617ae8b3b5b8bd801  \n",
              "3  1.574808  burn  0x1d42064fc4beb5f8aaf85f4617ae8b3b5b8bd801  \n",
              "4  0.000000  burn  0x1d42064fc4beb5f8aaf85f4617ae8b3b5b8bd801  "
            ],
            "text/html": [
              "\n",
              "  <div id=\"df-cdd1341c-2536-4afb-9ef7-5d408084e011\">\n",
              "    <div class=\"colab-df-container\">\n",
              "      <div>\n",
              "<style scoped>\n",
              "    .dataframe tbody tr th:only-of-type {\n",
              "        vertical-align: middle;\n",
              "    }\n",
              "\n",
              "    .dataframe tbody tr th {\n",
              "        vertical-align: top;\n",
              "    }\n",
              "\n",
              "    .dataframe thead th {\n",
              "        text-align: right;\n",
              "    }\n",
              "</style>\n",
              "<table border=\"1\" class=\"dataframe\">\n",
              "  <thead>\n",
              "    <tr style=\"text-align: right;\">\n",
              "      <th></th>\n",
              "      <th>timestamp</th>\n",
              "      <th>owner</th>\n",
              "      <th>origin</th>\n",
              "      <th>amountUSD</th>\n",
              "      <th>amount0</th>\n",
              "      <th>amount1</th>\n",
              "      <th>type</th>\n",
              "      <th>Pool</th>\n",
              "    </tr>\n",
              "  </thead>\n",
              "  <tbody>\n",
              "    <tr>\n",
              "      <th>0</th>\n",
              "      <td>2021-05-05 20:33:42</td>\n",
              "      <td>0xc36442b4a4522e871399cd717abdd847ab11fe88</td>\n",
              "      <td>0xd753e7e9665aeca31a2c3d98accab5ccb1cc6afb</td>\n",
              "      <td>10225.762335</td>\n",
              "      <td>121.068093</td>\n",
              "      <td>1.498881</td>\n",
              "      <td>burn</td>\n",
              "      <td>0x1d42064fc4beb5f8aaf85f4617ae8b3b5b8bd801</td>\n",
              "    </tr>\n",
              "    <tr>\n",
              "      <th>1</th>\n",
              "      <td>2021-05-05 20:46:23</td>\n",
              "      <td>0xc36442b4a4522e871399cd717abdd847ab11fe88</td>\n",
              "      <td>0x224e69025a2f705c8f31efb6694398f8fd09ac5c</td>\n",
              "      <td>1362.460988</td>\n",
              "      <td>16.308053</td>\n",
              "      <td>0.195133</td>\n",
              "      <td>burn</td>\n",
              "      <td>0x1d42064fc4beb5f8aaf85f4617ae8b3b5b8bd801</td>\n",
              "    </tr>\n",
              "    <tr>\n",
              "      <th>2</th>\n",
              "      <td>2021-05-05 20:46:23</td>\n",
              "      <td>0xc36442b4a4522e871399cd717abdd847ab11fe88</td>\n",
              "      <td>0x224e69025a2f705c8f31efb6694398f8fd09ac5c</td>\n",
              "      <td>0.000000</td>\n",
              "      <td>0.000000</td>\n",
              "      <td>0.000000</td>\n",
              "      <td>burn</td>\n",
              "      <td>0x1d42064fc4beb5f8aaf85f4617ae8b3b5b8bd801</td>\n",
              "    </tr>\n",
              "    <tr>\n",
              "      <th>3</th>\n",
              "      <td>2021-05-05 20:52:24</td>\n",
              "      <td>0xc36442b4a4522e871399cd717abdd847ab11fe88</td>\n",
              "      <td>0x741a9c2287e3f91d5f5e57cd3d0ccde375219109</td>\n",
              "      <td>5835.852481</td>\n",
              "      <td>9.130709</td>\n",
              "      <td>1.574808</td>\n",
              "      <td>burn</td>\n",
              "      <td>0x1d42064fc4beb5f8aaf85f4617ae8b3b5b8bd801</td>\n",
              "    </tr>\n",
              "    <tr>\n",
              "      <th>4</th>\n",
              "      <td>2021-05-05 20:52:24</td>\n",
              "      <td>0xc36442b4a4522e871399cd717abdd847ab11fe88</td>\n",
              "      <td>0x741a9c2287e3f91d5f5e57cd3d0ccde375219109</td>\n",
              "      <td>0.000000</td>\n",
              "      <td>0.000000</td>\n",
              "      <td>0.000000</td>\n",
              "      <td>burn</td>\n",
              "      <td>0x1d42064fc4beb5f8aaf85f4617ae8b3b5b8bd801</td>\n",
              "    </tr>\n",
              "  </tbody>\n",
              "</table>\n",
              "</div>\n",
              "      <button class=\"colab-df-convert\" onclick=\"convertToInteractive('df-cdd1341c-2536-4afb-9ef7-5d408084e011')\"\n",
              "              title=\"Convert this dataframe to an interactive table.\"\n",
              "              style=\"display:none;\">\n",
              "        \n",
              "  <svg xmlns=\"http://www.w3.org/2000/svg\" height=\"24px\"viewBox=\"0 0 24 24\"\n",
              "       width=\"24px\">\n",
              "    <path d=\"M0 0h24v24H0V0z\" fill=\"none\"/>\n",
              "    <path d=\"M18.56 5.44l.94 2.06.94-2.06 2.06-.94-2.06-.94-.94-2.06-.94 2.06-2.06.94zm-11 1L8.5 8.5l.94-2.06 2.06-.94-2.06-.94L8.5 2.5l-.94 2.06-2.06.94zm10 10l.94 2.06.94-2.06 2.06-.94-2.06-.94-.94-2.06-.94 2.06-2.06.94z\"/><path d=\"M17.41 7.96l-1.37-1.37c-.4-.4-.92-.59-1.43-.59-.52 0-1.04.2-1.43.59L10.3 9.45l-7.72 7.72c-.78.78-.78 2.05 0 2.83L4 21.41c.39.39.9.59 1.41.59.51 0 1.02-.2 1.41-.59l7.78-7.78 2.81-2.81c.8-.78.8-2.07 0-2.86zM5.41 20L4 18.59l7.72-7.72 1.47 1.35L5.41 20z\"/>\n",
              "  </svg>\n",
              "      </button>\n",
              "      \n",
              "  <style>\n",
              "    .colab-df-container {\n",
              "      display:flex;\n",
              "      flex-wrap:wrap;\n",
              "      gap: 12px;\n",
              "    }\n",
              "\n",
              "    .colab-df-convert {\n",
              "      background-color: #E8F0FE;\n",
              "      border: none;\n",
              "      border-radius: 50%;\n",
              "      cursor: pointer;\n",
              "      display: none;\n",
              "      fill: #1967D2;\n",
              "      height: 32px;\n",
              "      padding: 0 0 0 0;\n",
              "      width: 32px;\n",
              "    }\n",
              "\n",
              "    .colab-df-convert:hover {\n",
              "      background-color: #E2EBFA;\n",
              "      box-shadow: 0px 1px 2px rgba(60, 64, 67, 0.3), 0px 1px 3px 1px rgba(60, 64, 67, 0.15);\n",
              "      fill: #174EA6;\n",
              "    }\n",
              "\n",
              "    [theme=dark] .colab-df-convert {\n",
              "      background-color: #3B4455;\n",
              "      fill: #D2E3FC;\n",
              "    }\n",
              "\n",
              "    [theme=dark] .colab-df-convert:hover {\n",
              "      background-color: #434B5C;\n",
              "      box-shadow: 0px 1px 3px 1px rgba(0, 0, 0, 0.15);\n",
              "      filter: drop-shadow(0px 1px 2px rgba(0, 0, 0, 0.3));\n",
              "      fill: #FFFFFF;\n",
              "    }\n",
              "  </style>\n",
              "\n",
              "      <script>\n",
              "        const buttonEl =\n",
              "          document.querySelector('#df-cdd1341c-2536-4afb-9ef7-5d408084e011 button.colab-df-convert');\n",
              "        buttonEl.style.display =\n",
              "          google.colab.kernel.accessAllowed ? 'block' : 'none';\n",
              "\n",
              "        async function convertToInteractive(key) {\n",
              "          const element = document.querySelector('#df-cdd1341c-2536-4afb-9ef7-5d408084e011');\n",
              "          const dataTable =\n",
              "            await google.colab.kernel.invokeFunction('convertToInteractive',\n",
              "                                                     [key], {});\n",
              "          if (!dataTable) return;\n",
              "\n",
              "          const docLinkHtml = 'Like what you see? Visit the ' +\n",
              "            '<a target=\"_blank\" href=https://colab.research.google.com/notebooks/data_table.ipynb>data table notebook</a>'\n",
              "            + ' to learn more about interactive tables.';\n",
              "          element.innerHTML = '';\n",
              "          dataTable['output_type'] = 'display_data';\n",
              "          await google.colab.output.renderOutput(dataTable, element);\n",
              "          const docLink = document.createElement('div');\n",
              "          docLink.innerHTML = docLinkHtml;\n",
              "          element.appendChild(docLink);\n",
              "        }\n",
              "      </script>\n",
              "    </div>\n",
              "  </div>\n",
              "  "
            ]
          },
          "metadata": {},
          "execution_count": 107
        }
      ]
    },
    {
      "cell_type": "code",
      "source": [
        "result.to_csv(\"Burns.csv\")"
      ],
      "metadata": {
        "id": "NFtoRzY7UVvS"
      },
      "execution_count": null,
      "outputs": []
    },
    {
      "cell_type": "code",
      "source": [],
      "metadata": {
        "id": "m-QdCq0DUVvS"
      },
      "execution_count": null,
      "outputs": []
    },
    {
      "cell_type": "markdown",
      "source": [
        "#### Extracting swaps"
      ],
      "metadata": {
        "id": "9Xyn491IV1YS"
      }
    },
    {
      "cell_type": "code",
      "source": [
        "def Extracting_swaps_bypoolid (pool_id):\n",
        "  #old URL\n",
        "  #url = 'https://api.thegraph.com/subgraphs/name/uniswap/uniswap-v3'\n",
        "  # new URL / after the update \n",
        "  url = 'https://api.thegraph.com/subgraphs/name/ianlapham/v3-minimal'\n",
        "  frames = []\n",
        "  query = \"\"\"query {\n",
        "    swaps ( where : {pool : \"%s\" , timestamp_gt : %d}, orderBy: timestamp, orderDirection: asc)\n",
        "  {\n",
        "    timestamp\n",
        "    sender\n",
        "    recipient\n",
        "    origin\n",
        "    amountUSD\n",
        "    amount0\n",
        "    amount1\n",
        "  }\n",
        "  }\"\"\"\n",
        "  ts = 0 \n",
        "  while ( ts < 1663941971):\n",
        "    #print(\"start\")\n",
        "    tmp_query = query%(pool_id,ts)\n",
        "    r = requests.post(url, json={'query': tmp_query})\n",
        "    json_data = json.loads(r.text)\n",
        "    try:\n",
        "      df_data = json_data['data'][\"swaps\"]\n",
        "      df = pd.DataFrame(df_data)\n",
        "      ts = int (df.iloc[-1:][\"timestamp\"])\n",
        "      #print (ts)\n",
        "      frames.append(df)\n",
        "    except KeyError:\n",
        "      break\n",
        "    #print(\"end\")\n",
        "    \n",
        "\n",
        "  result_mint = pd.concat(frames)\n",
        "  result_mint['timestamp'] = pd.to_datetime(result_mint['timestamp'], unit='s')\n",
        "  result_mint[[\"amountUSD\",\"amount0\",\"amount1\"]] = result_mint[[\"amountUSD\",\"amount0\",\"amount1\"]].apply(pd.to_numeric)\n",
        "  result_mint['type'] = 'swap'\n",
        "  result_mint['Pool'] = pool_id\n",
        "\n",
        "  return result_mint"
      ],
      "metadata": {
        "id": "uk55Q4TbV1YT"
      },
      "execution_count": null,
      "outputs": []
    },
    {
      "cell_type": "code",
      "source": [
        "dai_usdc100_swaps = Extracting_swaps_bypoolid(dai_usdc100_id)\n",
        "dai_usdc100_swaps.info()"
      ],
      "metadata": {
        "colab": {
          "base_uri": "https://localhost:8080/"
        },
        "outputId": "4faa5a6d-ad33-4280-8fb7-274d41412d8d",
        "id": "VDscBfiTV1YU"
      },
      "execution_count": null,
      "outputs": [
        {
          "output_type": "stream",
          "name": "stdout",
          "text": [
            "<class 'pandas.core.frame.DataFrame'>\n",
            "Int64Index: 118000 entries, 0 to 99\n",
            "Data columns (total 9 columns):\n",
            " #   Column     Non-Null Count   Dtype         \n",
            "---  ------     --------------   -----         \n",
            " 0   timestamp  118000 non-null  datetime64[ns]\n",
            " 1   sender     118000 non-null  object        \n",
            " 2   recipient  118000 non-null  object        \n",
            " 3   origin     118000 non-null  object        \n",
            " 4   amountUSD  118000 non-null  float64       \n",
            " 5   amount0    118000 non-null  float64       \n",
            " 6   amount1    118000 non-null  float64       \n",
            " 7   type       118000 non-null  object        \n",
            " 8   Pool       118000 non-null  object        \n",
            "dtypes: datetime64[ns](1), float64(3), object(5)\n",
            "memory usage: 9.0+ MB\n"
          ]
        }
      ]
    },
    {
      "cell_type": "code",
      "source": [
        "usdc_WETH_3000_swaps = Extracting_swaps_bypoolid(usdc_WETH_3000_id)\n",
        "usdc_WETH_3000_swaps.info()"
      ],
      "metadata": {
        "colab": {
          "base_uri": "https://localhost:8080/"
        },
        "outputId": "65f0e8f7-4f6a-4c46-c659-01e52cf94b70",
        "id": "IXU-0dHdV1YV"
      },
      "execution_count": null,
      "outputs": [
        {
          "output_type": "stream",
          "name": "stdout",
          "text": [
            "<class 'pandas.core.frame.DataFrame'>\n",
            "Int64Index: 334400 entries, 0 to 99\n",
            "Data columns (total 9 columns):\n",
            " #   Column     Non-Null Count   Dtype         \n",
            "---  ------     --------------   -----         \n",
            " 0   timestamp  334400 non-null  datetime64[ns]\n",
            " 1   sender     334400 non-null  object        \n",
            " 2   recipient  334400 non-null  object        \n",
            " 3   origin     334400 non-null  object        \n",
            " 4   amountUSD  334400 non-null  float64       \n",
            " 5   amount0    334400 non-null  float64       \n",
            " 6   amount1    334400 non-null  float64       \n",
            " 7   type       334400 non-null  object        \n",
            " 8   Pool       334400 non-null  object        \n",
            "dtypes: datetime64[ns](1), float64(3), object(5)\n",
            "memory usage: 25.5+ MB\n"
          ]
        }
      ]
    },
    {
      "cell_type": "code",
      "source": [
        "wbtc_WETH_3000_swaps = Extracting_swaps_bypoolid(wbtc_WETH_3000_id)\n",
        "wbtc_WETH_3000_swaps.info()"
      ],
      "metadata": {
        "colab": {
          "base_uri": "https://localhost:8080/"
        },
        "id": "5gcEbgvRV1YV",
        "outputId": "0bc003e4-b5bb-4303-9f38-ae4411d81d53"
      },
      "execution_count": null,
      "outputs": [
        {
          "output_type": "stream",
          "name": "stdout",
          "text": [
            "<class 'pandas.core.frame.DataFrame'>\n",
            "Int64Index: 111300 entries, 0 to 99\n",
            "Data columns (total 9 columns):\n",
            " #   Column     Non-Null Count   Dtype         \n",
            "---  ------     --------------   -----         \n",
            " 0   timestamp  111300 non-null  datetime64[ns]\n",
            " 1   sender     111300 non-null  object        \n",
            " 2   recipient  111300 non-null  object        \n",
            " 3   origin     111300 non-null  object        \n",
            " 4   amountUSD  111300 non-null  float64       \n",
            " 5   amount0    111300 non-null  float64       \n",
            " 6   amount1    111300 non-null  float64       \n",
            " 7   type       111300 non-null  object        \n",
            " 8   Pool       111300 non-null  object        \n",
            "dtypes: datetime64[ns](1), float64(3), object(5)\n",
            "memory usage: 8.5+ MB\n"
          ]
        }
      ]
    },
    {
      "cell_type": "code",
      "source": [
        "uni_WETH_3000_swaps = Extracting_swaps_bypoolid(UNI_WETH_3000_id)\n",
        "uni_WETH_3000_swaps.info()"
      ],
      "metadata": {
        "colab": {
          "base_uri": "https://localhost:8080/"
        },
        "id": "gblsasYvV1YW",
        "outputId": "d656a9ba-d867-4592-c746-bb87b5872c20"
      },
      "execution_count": null,
      "outputs": [
        {
          "output_type": "stream",
          "name": "stdout",
          "text": [
            "<class 'pandas.core.frame.DataFrame'>\n",
            "Int64Index: 80300 entries, 0 to 99\n",
            "Data columns (total 9 columns):\n",
            " #   Column     Non-Null Count  Dtype         \n",
            "---  ------     --------------  -----         \n",
            " 0   timestamp  80300 non-null  datetime64[ns]\n",
            " 1   sender     80300 non-null  object        \n",
            " 2   recipient  80300 non-null  object        \n",
            " 3   origin     80300 non-null  object        \n",
            " 4   amountUSD  80300 non-null  float64       \n",
            " 5   amount0    80300 non-null  float64       \n",
            " 6   amount1    80300 non-null  float64       \n",
            " 7   type       80300 non-null  object        \n",
            " 8   Pool       80300 non-null  object        \n",
            "dtypes: datetime64[ns](1), float64(3), object(5)\n",
            "memory usage: 6.1+ MB\n"
          ]
        }
      ]
    },
    {
      "cell_type": "code",
      "source": [
        "result = pd.concat([uni_WETH_3000_swaps,wbtc_WETH_3000_swaps,usdc_WETH_3000_swaps,dai_usdc100_swaps])\n",
        "result.info()"
      ],
      "metadata": {
        "colab": {
          "base_uri": "https://localhost:8080/"
        },
        "id": "VQK8vbLlV1YX",
        "outputId": "844c4ab9-543a-482b-b442-52ca0e61f403"
      },
      "execution_count": null,
      "outputs": [
        {
          "output_type": "stream",
          "name": "stdout",
          "text": [
            "<class 'pandas.core.frame.DataFrame'>\n",
            "Int64Index: 644000 entries, 0 to 99\n",
            "Data columns (total 9 columns):\n",
            " #   Column     Non-Null Count   Dtype         \n",
            "---  ------     --------------   -----         \n",
            " 0   timestamp  644000 non-null  datetime64[ns]\n",
            " 1   sender     644000 non-null  object        \n",
            " 2   recipient  644000 non-null  object        \n",
            " 3   origin     644000 non-null  object        \n",
            " 4   amountUSD  644000 non-null  float64       \n",
            " 5   amount0    644000 non-null  float64       \n",
            " 6   amount1    644000 non-null  float64       \n",
            " 7   type       644000 non-null  object        \n",
            " 8   Pool       644000 non-null  object        \n",
            "dtypes: datetime64[ns](1), float64(3), object(5)\n",
            "memory usage: 49.1+ MB\n"
          ]
        }
      ]
    },
    {
      "cell_type": "code",
      "source": [
        "result.head()"
      ],
      "metadata": {
        "colab": {
          "base_uri": "https://localhost:8080/",
          "height": 357
        },
        "id": "ICyVyZNuV1YX",
        "outputId": "f29ed4ab-57a2-49e5-d5f3-587f00dcbbb7"
      },
      "execution_count": null,
      "outputs": [
        {
          "output_type": "execute_result",
          "data": {
            "text/plain": [
              "            timestamp                                      sender  \\\n",
              "0 2021-05-05 08:35:47  0xe592427a0aece92de3edee1f18e0157c05861564   \n",
              "1 2021-05-05 18:03:43  0xe592427a0aece92de3edee1f18e0157c05861564   \n",
              "2 2021-05-05 18:08:16  0xe592427a0aece92de3edee1f18e0157c05861564   \n",
              "3 2021-05-05 18:08:19  0xe592427a0aece92de3edee1f18e0157c05861564   \n",
              "4 2021-05-05 18:08:55  0xe592427a0aece92de3edee1f18e0157c05861564   \n",
              "\n",
              "                                    recipient  \\\n",
              "0  0x0459b3fbf7c1840ee03a63ca4aa95de48322322e   \n",
              "1  0x12696ad7ea03474ed5d2d2909c52f3d1d997c81e   \n",
              "2  0xe592427a0aece92de3edee1f18e0157c05861564   \n",
              "3  0x22f9dcf4647084d6c31b2765f6910cd85c178c18   \n",
              "4  0xe8c73aa629605202d77ff31eedd55e92ebd3aefa   \n",
              "\n",
              "                                       origin    amountUSD     amount0  \\\n",
              "0  0x0459b3fbf7c1840ee03a63ca4aa95de48322322e   129.289579   -3.000000   \n",
              "1  0x12696ad7ea03474ed5d2d2909c52f3d1d997c81e     0.033432   -0.000747   \n",
              "2  0x5337122c6b5ce24d970ce771510d22aeaf038c44    44.465241    1.000000   \n",
              "3  0x5097f85f9312d5e2ffd16c3668a63a623221f16e  6020.002910  135.546471   \n",
              "4  0xe8c73aa629605202d77ff31eedd55e92ebd3aefa    45.765859   -1.025484   \n",
              "\n",
              "    amount1  type                                        Pool  \n",
              "0  0.039160  swap  0x1d42064fc4beb5f8aaf85f4617ae8b3b5b8bd801  \n",
              "1  0.000010  swap  0x1d42064fc4beb5f8aaf85f4617ae8b3b5b8bd801  \n",
              "2 -0.013300  swap  0x1d42064fc4beb5f8aaf85f4617ae8b3b5b8bd801  \n",
              "3 -1.800660  swap  0x1d42064fc4beb5f8aaf85f4617ae8b3b5b8bd801  \n",
              "4  0.013689  swap  0x1d42064fc4beb5f8aaf85f4617ae8b3b5b8bd801  "
            ],
            "text/html": [
              "\n",
              "  <div id=\"df-8af85a57-8ea6-46c0-82f4-1105759911ed\">\n",
              "    <div class=\"colab-df-container\">\n",
              "      <div>\n",
              "<style scoped>\n",
              "    .dataframe tbody tr th:only-of-type {\n",
              "        vertical-align: middle;\n",
              "    }\n",
              "\n",
              "    .dataframe tbody tr th {\n",
              "        vertical-align: top;\n",
              "    }\n",
              "\n",
              "    .dataframe thead th {\n",
              "        text-align: right;\n",
              "    }\n",
              "</style>\n",
              "<table border=\"1\" class=\"dataframe\">\n",
              "  <thead>\n",
              "    <tr style=\"text-align: right;\">\n",
              "      <th></th>\n",
              "      <th>timestamp</th>\n",
              "      <th>sender</th>\n",
              "      <th>recipient</th>\n",
              "      <th>origin</th>\n",
              "      <th>amountUSD</th>\n",
              "      <th>amount0</th>\n",
              "      <th>amount1</th>\n",
              "      <th>type</th>\n",
              "      <th>Pool</th>\n",
              "    </tr>\n",
              "  </thead>\n",
              "  <tbody>\n",
              "    <tr>\n",
              "      <th>0</th>\n",
              "      <td>2021-05-05 08:35:47</td>\n",
              "      <td>0xe592427a0aece92de3edee1f18e0157c05861564</td>\n",
              "      <td>0x0459b3fbf7c1840ee03a63ca4aa95de48322322e</td>\n",
              "      <td>0x0459b3fbf7c1840ee03a63ca4aa95de48322322e</td>\n",
              "      <td>129.289579</td>\n",
              "      <td>-3.000000</td>\n",
              "      <td>0.039160</td>\n",
              "      <td>swap</td>\n",
              "      <td>0x1d42064fc4beb5f8aaf85f4617ae8b3b5b8bd801</td>\n",
              "    </tr>\n",
              "    <tr>\n",
              "      <th>1</th>\n",
              "      <td>2021-05-05 18:03:43</td>\n",
              "      <td>0xe592427a0aece92de3edee1f18e0157c05861564</td>\n",
              "      <td>0x12696ad7ea03474ed5d2d2909c52f3d1d997c81e</td>\n",
              "      <td>0x12696ad7ea03474ed5d2d2909c52f3d1d997c81e</td>\n",
              "      <td>0.033432</td>\n",
              "      <td>-0.000747</td>\n",
              "      <td>0.000010</td>\n",
              "      <td>swap</td>\n",
              "      <td>0x1d42064fc4beb5f8aaf85f4617ae8b3b5b8bd801</td>\n",
              "    </tr>\n",
              "    <tr>\n",
              "      <th>2</th>\n",
              "      <td>2021-05-05 18:08:16</td>\n",
              "      <td>0xe592427a0aece92de3edee1f18e0157c05861564</td>\n",
              "      <td>0xe592427a0aece92de3edee1f18e0157c05861564</td>\n",
              "      <td>0x5337122c6b5ce24d970ce771510d22aeaf038c44</td>\n",
              "      <td>44.465241</td>\n",
              "      <td>1.000000</td>\n",
              "      <td>-0.013300</td>\n",
              "      <td>swap</td>\n",
              "      <td>0x1d42064fc4beb5f8aaf85f4617ae8b3b5b8bd801</td>\n",
              "    </tr>\n",
              "    <tr>\n",
              "      <th>3</th>\n",
              "      <td>2021-05-05 18:08:19</td>\n",
              "      <td>0xe592427a0aece92de3edee1f18e0157c05861564</td>\n",
              "      <td>0x22f9dcf4647084d6c31b2765f6910cd85c178c18</td>\n",
              "      <td>0x5097f85f9312d5e2ffd16c3668a63a623221f16e</td>\n",
              "      <td>6020.002910</td>\n",
              "      <td>135.546471</td>\n",
              "      <td>-1.800660</td>\n",
              "      <td>swap</td>\n",
              "      <td>0x1d42064fc4beb5f8aaf85f4617ae8b3b5b8bd801</td>\n",
              "    </tr>\n",
              "    <tr>\n",
              "      <th>4</th>\n",
              "      <td>2021-05-05 18:08:55</td>\n",
              "      <td>0xe592427a0aece92de3edee1f18e0157c05861564</td>\n",
              "      <td>0xe8c73aa629605202d77ff31eedd55e92ebd3aefa</td>\n",
              "      <td>0xe8c73aa629605202d77ff31eedd55e92ebd3aefa</td>\n",
              "      <td>45.765859</td>\n",
              "      <td>-1.025484</td>\n",
              "      <td>0.013689</td>\n",
              "      <td>swap</td>\n",
              "      <td>0x1d42064fc4beb5f8aaf85f4617ae8b3b5b8bd801</td>\n",
              "    </tr>\n",
              "  </tbody>\n",
              "</table>\n",
              "</div>\n",
              "      <button class=\"colab-df-convert\" onclick=\"convertToInteractive('df-8af85a57-8ea6-46c0-82f4-1105759911ed')\"\n",
              "              title=\"Convert this dataframe to an interactive table.\"\n",
              "              style=\"display:none;\">\n",
              "        \n",
              "  <svg xmlns=\"http://www.w3.org/2000/svg\" height=\"24px\"viewBox=\"0 0 24 24\"\n",
              "       width=\"24px\">\n",
              "    <path d=\"M0 0h24v24H0V0z\" fill=\"none\"/>\n",
              "    <path d=\"M18.56 5.44l.94 2.06.94-2.06 2.06-.94-2.06-.94-.94-2.06-.94 2.06-2.06.94zm-11 1L8.5 8.5l.94-2.06 2.06-.94-2.06-.94L8.5 2.5l-.94 2.06-2.06.94zm10 10l.94 2.06.94-2.06 2.06-.94-2.06-.94-.94-2.06-.94 2.06-2.06.94z\"/><path d=\"M17.41 7.96l-1.37-1.37c-.4-.4-.92-.59-1.43-.59-.52 0-1.04.2-1.43.59L10.3 9.45l-7.72 7.72c-.78.78-.78 2.05 0 2.83L4 21.41c.39.39.9.59 1.41.59.51 0 1.02-.2 1.41-.59l7.78-7.78 2.81-2.81c.8-.78.8-2.07 0-2.86zM5.41 20L4 18.59l7.72-7.72 1.47 1.35L5.41 20z\"/>\n",
              "  </svg>\n",
              "      </button>\n",
              "      \n",
              "  <style>\n",
              "    .colab-df-container {\n",
              "      display:flex;\n",
              "      flex-wrap:wrap;\n",
              "      gap: 12px;\n",
              "    }\n",
              "\n",
              "    .colab-df-convert {\n",
              "      background-color: #E8F0FE;\n",
              "      border: none;\n",
              "      border-radius: 50%;\n",
              "      cursor: pointer;\n",
              "      display: none;\n",
              "      fill: #1967D2;\n",
              "      height: 32px;\n",
              "      padding: 0 0 0 0;\n",
              "      width: 32px;\n",
              "    }\n",
              "\n",
              "    .colab-df-convert:hover {\n",
              "      background-color: #E2EBFA;\n",
              "      box-shadow: 0px 1px 2px rgba(60, 64, 67, 0.3), 0px 1px 3px 1px rgba(60, 64, 67, 0.15);\n",
              "      fill: #174EA6;\n",
              "    }\n",
              "\n",
              "    [theme=dark] .colab-df-convert {\n",
              "      background-color: #3B4455;\n",
              "      fill: #D2E3FC;\n",
              "    }\n",
              "\n",
              "    [theme=dark] .colab-df-convert:hover {\n",
              "      background-color: #434B5C;\n",
              "      box-shadow: 0px 1px 3px 1px rgba(0, 0, 0, 0.15);\n",
              "      filter: drop-shadow(0px 1px 2px rgba(0, 0, 0, 0.3));\n",
              "      fill: #FFFFFF;\n",
              "    }\n",
              "  </style>\n",
              "\n",
              "      <script>\n",
              "        const buttonEl =\n",
              "          document.querySelector('#df-8af85a57-8ea6-46c0-82f4-1105759911ed button.colab-df-convert');\n",
              "        buttonEl.style.display =\n",
              "          google.colab.kernel.accessAllowed ? 'block' : 'none';\n",
              "\n",
              "        async function convertToInteractive(key) {\n",
              "          const element = document.querySelector('#df-8af85a57-8ea6-46c0-82f4-1105759911ed');\n",
              "          const dataTable =\n",
              "            await google.colab.kernel.invokeFunction('convertToInteractive',\n",
              "                                                     [key], {});\n",
              "          if (!dataTable) return;\n",
              "\n",
              "          const docLinkHtml = 'Like what you see? Visit the ' +\n",
              "            '<a target=\"_blank\" href=https://colab.research.google.com/notebooks/data_table.ipynb>data table notebook</a>'\n",
              "            + ' to learn more about interactive tables.';\n",
              "          element.innerHTML = '';\n",
              "          dataTable['output_type'] = 'display_data';\n",
              "          await google.colab.output.renderOutput(dataTable, element);\n",
              "          const docLink = document.createElement('div');\n",
              "          docLink.innerHTML = docLinkHtml;\n",
              "          element.appendChild(docLink);\n",
              "        }\n",
              "      </script>\n",
              "    </div>\n",
              "  </div>\n",
              "  "
            ]
          },
          "metadata": {},
          "execution_count": 115
        }
      ]
    },
    {
      "cell_type": "code",
      "source": [
        "result.to_csv(\"Swaps.csv\")"
      ],
      "metadata": {
        "id": "nQDIM-W8V1YY"
      },
      "execution_count": null,
      "outputs": []
    },
    {
      "cell_type": "code",
      "source": [],
      "metadata": {
        "id": "FLMIjYzTV1YY"
      },
      "execution_count": null,
      "outputs": []
    },
    {
      "cell_type": "markdown",
      "source": [
        "#### Extracting Positions - no updated version"
      ],
      "metadata": {
        "id": "A-5fsr6WbfLA"
      }
    },
    {
      "cell_type": "code",
      "source": [
        "query = \"\"\"\n",
        " query {\n",
        "  positions (skip : %d ,orderBy: liquidity , orderDirection: desc)\n",
        "  {\n",
        "    id\n",
        "    owner\n",
        "    pool\n",
        "    {\n",
        "      id\n",
        "    }\n",
        "    token0\n",
        "    {\n",
        "      id\n",
        "    }\n",
        "    token1\n",
        "    {\n",
        "      id\n",
        "    }\n",
        "    tickLower\n",
        "    {\n",
        "      id\n",
        "    }\n",
        "    tickUpper\n",
        "    {\n",
        "      id\n",
        "    }\n",
        "    liquidity\n",
        "    depositedToken0\n",
        "    depositedToken1\n",
        "    withdrawnToken0\n",
        "    withdrawnToken1\n",
        "    collectedFeesToken0\n",
        "    collectedFeesToken1\n",
        "    transaction\n",
        "    {\n",
        "      id\n",
        "    }\n",
        "    feeGrowthInside0LastX128\n",
        "    feeGrowthInside1LastX128\n",
        "    \n",
        "  }\n",
        "}\n",
        "\"\"\"\n"
      ],
      "metadata": {
        "id": "keQ0JG8tUkN-"
      },
      "execution_count": null,
      "outputs": []
    },
    {
      "cell_type": "code",
      "source": [
        " tdf = Extract_data(query, \"positions\")\n",
        " tdf.info()"
      ],
      "metadata": {
        "colab": {
          "base_uri": "https://localhost:8080/"
        },
        "id": "TcJ2_BVsbmBy",
        "outputId": "54e996a0-3364-4ac8-90c0-71087292bfd7"
      },
      "execution_count": null,
      "outputs": [
        {
          "output_type": "stream",
          "name": "stdout",
          "text": [
            "<class 'pandas.core.frame.DataFrame'>\n",
            "Int64Index: 5000 entries, 0 to 99\n",
            "Data columns (total 17 columns):\n",
            " #   Column                    Non-Null Count  Dtype \n",
            "---  ------                    --------------  ----- \n",
            " 0   id                        5000 non-null   object\n",
            " 1   owner                     5000 non-null   object\n",
            " 2   pool                      5000 non-null   object\n",
            " 3   token0                    5000 non-null   object\n",
            " 4   token1                    5000 non-null   object\n",
            " 5   tickLower                 5000 non-null   object\n",
            " 6   tickUpper                 5000 non-null   object\n",
            " 7   liquidity                 5000 non-null   object\n",
            " 8   depositedToken0           5000 non-null   object\n",
            " 9   depositedToken1           5000 non-null   object\n",
            " 10  withdrawnToken0           5000 non-null   object\n",
            " 11  withdrawnToken1           5000 non-null   object\n",
            " 12  collectedFeesToken0       5000 non-null   object\n",
            " 13  collectedFeesToken1       5000 non-null   object\n",
            " 14  transaction               5000 non-null   object\n",
            " 15  feeGrowthInside0LastX128  5000 non-null   object\n",
            " 16  feeGrowthInside1LastX128  5000 non-null   object\n",
            "dtypes: object(17)\n",
            "memory usage: 703.1+ KB\n"
          ]
        }
      ]
    },
    {
      "cell_type": "code",
      "source": [
        "tdf.head()"
      ],
      "metadata": {
        "colab": {
          "base_uri": "https://localhost:8080/",
          "height": 357
        },
        "id": "NTRAu23QdA4C",
        "outputId": "fbfdbc00-853f-4e5b-d3aa-a9036b2c71dc"
      },
      "execution_count": null,
      "outputs": [
        {
          "output_type": "execute_result",
          "data": {
            "text/plain": [
              "       id                                       owner  \\\n",
              "0  114444  0xabb9d90f78b55013c5cea9e91c9419ddff4fc0ac   \n",
              "1   40589  0x7d5f6049014e67f16c16335374d65370fcba34e1   \n",
              "2   41261  0xbd2f670afcaf98b939203173a4370d71c75963f8   \n",
              "3   65266  0x0797a0bd634e0949be80d49b4bc3e7225f02d747   \n",
              "4   79240  0x06773ae9559a0e0c8dba89d3cd4f7eac74b225b8   \n",
              "\n",
              "                                                pool  \\\n",
              "0  {'id': '0xecdcb160c0fa92ee6430972b8e918c1b073e...   \n",
              "1  {'id': '0x79c9946b4cb90bd21fbe330110f5658f9d35...   \n",
              "2  {'id': '0x000f0c0b0b791e855dcc5ad6501c7529dea8...   \n",
              "3  {'id': '0x68f5d4009f9001c8d00ced56c1e90702c998...   \n",
              "4  {'id': '0x596101125094f9d65a579b2cfc4c26059cb6...   \n",
              "\n",
              "                                              token0  \\\n",
              "0  {'id': '0x7b93af056ecac7ba97a5f669cf127f9257e4...   \n",
              "1  {'id': '0x926a2494acba43fcc2442fda80a1cbaf99ed...   \n",
              "2  {'id': '0xc02aaa39b223fe8d0a0e5c4f27ead9083c75...   \n",
              "3  {'id': '0xc02aaa39b223fe8d0a0e5c4f27ead9083c75...   \n",
              "4  {'id': '0x78a52e12c7b63d05c12f9608307587cf654e...   \n",
              "\n",
              "                                              token1  \\\n",
              "0  {'id': '0xc02aaa39b223fe8d0a0e5c4f27ead9083c75...   \n",
              "1  {'id': '0xc02aaa39b223fe8d0a0e5c4f27ead9083c75...   \n",
              "2  {'id': '0xd1063ee5ec2891991a29fefb52bcc448cd38...   \n",
              "3  {'id': '0xdba6c02329d5f84856b32f401d4c5e3009e7...   \n",
              "4  {'id': '0xc02aaa39b223fe8d0a0e5c4f27ead9083c75...   \n",
              "\n",
              "                                           tickLower  \\\n",
              "0  {'id': '0xecdcb160c0fa92ee6430972b8e918c1b073e...   \n",
              "1  {'id': '0x79c9946b4cb90bd21fbe330110f5658f9d35...   \n",
              "2  {'id': '0x000f0c0b0b791e855dcc5ad6501c7529dea8...   \n",
              "3  {'id': '0x68f5d4009f9001c8d00ced56c1e90702c998...   \n",
              "4  {'id': '0x596101125094f9d65a579b2cfc4c26059cb6...   \n",
              "\n",
              "                                           tickUpper  \\\n",
              "0  {'id': '0xecdcb160c0fa92ee6430972b8e918c1b073e...   \n",
              "1  {'id': '0x79c9946b4cb90bd21fbe330110f5658f9d35...   \n",
              "2  {'id': '0x000f0c0b0b791e855dcc5ad6501c7529dea8...   \n",
              "3  {'id': '0x68f5d4009f9001c8d00ced56c1e90702c998...   \n",
              "4  {'id': '0x596101125094f9d65a579b2cfc4c26059cb6...   \n",
              "\n",
              "                             liquidity                     depositedToken0  \\\n",
              "0  11114450057194205771809438988582841  10000000000000000.0000000000000001   \n",
              "1  10459723782139312351123351992955751   59999996500596.466897904020453762   \n",
              "2   2032209333937888030579013479745504                                   0   \n",
              "3   1907855112094752544864253485599904                                   0   \n",
              "4   1061529810167122922185668885105454                           400000000   \n",
              "\n",
              "  depositedToken1 withdrawnToken0 withdrawnToken1 collectedFeesToken0  \\\n",
              "0               0               0               0                   0   \n",
              "1               0               0               0                   0   \n",
              "2     10000000000               0               0                   0   \n",
              "3  36948200048614               0               0                   0   \n",
              "4               0               0               0                   0   \n",
              "\n",
              "  collectedFeesToken1                                        transaction  \\\n",
              "0                   0  {'id': '0xb1980e16d55c2036cdb25eb52b667a5c594c...   \n",
              "1                   0  {'id': '0x8e770f40fba7bf53b252f4c9765082835197...   \n",
              "2                   0  {'id': '0xca40c78f8951b97d9f7a5e6eb3d91f30fb45...   \n",
              "3                   0  {'id': '0x6bf4d1b7c8fc2d2d8bba12b6e4fb351a6bb2...   \n",
              "4                   0  {'id': '0x840f2f9511a640b45ef979113b3f313963ff...   \n",
              "\n",
              "  feeGrowthInside0LastX128 feeGrowthInside1LastX128  \n",
              "0                        0                        0  \n",
              "1                        0                        0  \n",
              "2                        0                        0  \n",
              "3                        0                        0  \n",
              "4                        0                        0  "
            ],
            "text/html": [
              "\n",
              "  <div id=\"df-088bcebd-2a8f-4580-8105-6361d8cd4fdd\">\n",
              "    <div class=\"colab-df-container\">\n",
              "      <div>\n",
              "<style scoped>\n",
              "    .dataframe tbody tr th:only-of-type {\n",
              "        vertical-align: middle;\n",
              "    }\n",
              "\n",
              "    .dataframe tbody tr th {\n",
              "        vertical-align: top;\n",
              "    }\n",
              "\n",
              "    .dataframe thead th {\n",
              "        text-align: right;\n",
              "    }\n",
              "</style>\n",
              "<table border=\"1\" class=\"dataframe\">\n",
              "  <thead>\n",
              "    <tr style=\"text-align: right;\">\n",
              "      <th></th>\n",
              "      <th>id</th>\n",
              "      <th>owner</th>\n",
              "      <th>pool</th>\n",
              "      <th>token0</th>\n",
              "      <th>token1</th>\n",
              "      <th>tickLower</th>\n",
              "      <th>tickUpper</th>\n",
              "      <th>liquidity</th>\n",
              "      <th>depositedToken0</th>\n",
              "      <th>depositedToken1</th>\n",
              "      <th>withdrawnToken0</th>\n",
              "      <th>withdrawnToken1</th>\n",
              "      <th>collectedFeesToken0</th>\n",
              "      <th>collectedFeesToken1</th>\n",
              "      <th>transaction</th>\n",
              "      <th>feeGrowthInside0LastX128</th>\n",
              "      <th>feeGrowthInside1LastX128</th>\n",
              "    </tr>\n",
              "  </thead>\n",
              "  <tbody>\n",
              "    <tr>\n",
              "      <th>0</th>\n",
              "      <td>114444</td>\n",
              "      <td>0xabb9d90f78b55013c5cea9e91c9419ddff4fc0ac</td>\n",
              "      <td>{'id': '0xecdcb160c0fa92ee6430972b8e918c1b073e...</td>\n",
              "      <td>{'id': '0x7b93af056ecac7ba97a5f669cf127f9257e4...</td>\n",
              "      <td>{'id': '0xc02aaa39b223fe8d0a0e5c4f27ead9083c75...</td>\n",
              "      <td>{'id': '0xecdcb160c0fa92ee6430972b8e918c1b073e...</td>\n",
              "      <td>{'id': '0xecdcb160c0fa92ee6430972b8e918c1b073e...</td>\n",
              "      <td>11114450057194205771809438988582841</td>\n",
              "      <td>10000000000000000.0000000000000001</td>\n",
              "      <td>0</td>\n",
              "      <td>0</td>\n",
              "      <td>0</td>\n",
              "      <td>0</td>\n",
              "      <td>0</td>\n",
              "      <td>{'id': '0xb1980e16d55c2036cdb25eb52b667a5c594c...</td>\n",
              "      <td>0</td>\n",
              "      <td>0</td>\n",
              "    </tr>\n",
              "    <tr>\n",
              "      <th>1</th>\n",
              "      <td>40589</td>\n",
              "      <td>0x7d5f6049014e67f16c16335374d65370fcba34e1</td>\n",
              "      <td>{'id': '0x79c9946b4cb90bd21fbe330110f5658f9d35...</td>\n",
              "      <td>{'id': '0x926a2494acba43fcc2442fda80a1cbaf99ed...</td>\n",
              "      <td>{'id': '0xc02aaa39b223fe8d0a0e5c4f27ead9083c75...</td>\n",
              "      <td>{'id': '0x79c9946b4cb90bd21fbe330110f5658f9d35...</td>\n",
              "      <td>{'id': '0x79c9946b4cb90bd21fbe330110f5658f9d35...</td>\n",
              "      <td>10459723782139312351123351992955751</td>\n",
              "      <td>59999996500596.466897904020453762</td>\n",
              "      <td>0</td>\n",
              "      <td>0</td>\n",
              "      <td>0</td>\n",
              "      <td>0</td>\n",
              "      <td>0</td>\n",
              "      <td>{'id': '0x8e770f40fba7bf53b252f4c9765082835197...</td>\n",
              "      <td>0</td>\n",
              "      <td>0</td>\n",
              "    </tr>\n",
              "    <tr>\n",
              "      <th>2</th>\n",
              "      <td>41261</td>\n",
              "      <td>0xbd2f670afcaf98b939203173a4370d71c75963f8</td>\n",
              "      <td>{'id': '0x000f0c0b0b791e855dcc5ad6501c7529dea8...</td>\n",
              "      <td>{'id': '0xc02aaa39b223fe8d0a0e5c4f27ead9083c75...</td>\n",
              "      <td>{'id': '0xd1063ee5ec2891991a29fefb52bcc448cd38...</td>\n",
              "      <td>{'id': '0x000f0c0b0b791e855dcc5ad6501c7529dea8...</td>\n",
              "      <td>{'id': '0x000f0c0b0b791e855dcc5ad6501c7529dea8...</td>\n",
              "      <td>2032209333937888030579013479745504</td>\n",
              "      <td>0</td>\n",
              "      <td>10000000000</td>\n",
              "      <td>0</td>\n",
              "      <td>0</td>\n",
              "      <td>0</td>\n",
              "      <td>0</td>\n",
              "      <td>{'id': '0xca40c78f8951b97d9f7a5e6eb3d91f30fb45...</td>\n",
              "      <td>0</td>\n",
              "      <td>0</td>\n",
              "    </tr>\n",
              "    <tr>\n",
              "      <th>3</th>\n",
              "      <td>65266</td>\n",
              "      <td>0x0797a0bd634e0949be80d49b4bc3e7225f02d747</td>\n",
              "      <td>{'id': '0x68f5d4009f9001c8d00ced56c1e90702c998...</td>\n",
              "      <td>{'id': '0xc02aaa39b223fe8d0a0e5c4f27ead9083c75...</td>\n",
              "      <td>{'id': '0xdba6c02329d5f84856b32f401d4c5e3009e7...</td>\n",
              "      <td>{'id': '0x68f5d4009f9001c8d00ced56c1e90702c998...</td>\n",
              "      <td>{'id': '0x68f5d4009f9001c8d00ced56c1e90702c998...</td>\n",
              "      <td>1907855112094752544864253485599904</td>\n",
              "      <td>0</td>\n",
              "      <td>36948200048614</td>\n",
              "      <td>0</td>\n",
              "      <td>0</td>\n",
              "      <td>0</td>\n",
              "      <td>0</td>\n",
              "      <td>{'id': '0x6bf4d1b7c8fc2d2d8bba12b6e4fb351a6bb2...</td>\n",
              "      <td>0</td>\n",
              "      <td>0</td>\n",
              "    </tr>\n",
              "    <tr>\n",
              "      <th>4</th>\n",
              "      <td>79240</td>\n",
              "      <td>0x06773ae9559a0e0c8dba89d3cd4f7eac74b225b8</td>\n",
              "      <td>{'id': '0x596101125094f9d65a579b2cfc4c26059cb6...</td>\n",
              "      <td>{'id': '0x78a52e12c7b63d05c12f9608307587cf654e...</td>\n",
              "      <td>{'id': '0xc02aaa39b223fe8d0a0e5c4f27ead9083c75...</td>\n",
              "      <td>{'id': '0x596101125094f9d65a579b2cfc4c26059cb6...</td>\n",
              "      <td>{'id': '0x596101125094f9d65a579b2cfc4c26059cb6...</td>\n",
              "      <td>1061529810167122922185668885105454</td>\n",
              "      <td>400000000</td>\n",
              "      <td>0</td>\n",
              "      <td>0</td>\n",
              "      <td>0</td>\n",
              "      <td>0</td>\n",
              "      <td>0</td>\n",
              "      <td>{'id': '0x840f2f9511a640b45ef979113b3f313963ff...</td>\n",
              "      <td>0</td>\n",
              "      <td>0</td>\n",
              "    </tr>\n",
              "  </tbody>\n",
              "</table>\n",
              "</div>\n",
              "      <button class=\"colab-df-convert\" onclick=\"convertToInteractive('df-088bcebd-2a8f-4580-8105-6361d8cd4fdd')\"\n",
              "              title=\"Convert this dataframe to an interactive table.\"\n",
              "              style=\"display:none;\">\n",
              "        \n",
              "  <svg xmlns=\"http://www.w3.org/2000/svg\" height=\"24px\"viewBox=\"0 0 24 24\"\n",
              "       width=\"24px\">\n",
              "    <path d=\"M0 0h24v24H0V0z\" fill=\"none\"/>\n",
              "    <path d=\"M18.56 5.44l.94 2.06.94-2.06 2.06-.94-2.06-.94-.94-2.06-.94 2.06-2.06.94zm-11 1L8.5 8.5l.94-2.06 2.06-.94-2.06-.94L8.5 2.5l-.94 2.06-2.06.94zm10 10l.94 2.06.94-2.06 2.06-.94-2.06-.94-.94-2.06-.94 2.06-2.06.94z\"/><path d=\"M17.41 7.96l-1.37-1.37c-.4-.4-.92-.59-1.43-.59-.52 0-1.04.2-1.43.59L10.3 9.45l-7.72 7.72c-.78.78-.78 2.05 0 2.83L4 21.41c.39.39.9.59 1.41.59.51 0 1.02-.2 1.41-.59l7.78-7.78 2.81-2.81c.8-.78.8-2.07 0-2.86zM5.41 20L4 18.59l7.72-7.72 1.47 1.35L5.41 20z\"/>\n",
              "  </svg>\n",
              "      </button>\n",
              "      \n",
              "  <style>\n",
              "    .colab-df-container {\n",
              "      display:flex;\n",
              "      flex-wrap:wrap;\n",
              "      gap: 12px;\n",
              "    }\n",
              "\n",
              "    .colab-df-convert {\n",
              "      background-color: #E8F0FE;\n",
              "      border: none;\n",
              "      border-radius: 50%;\n",
              "      cursor: pointer;\n",
              "      display: none;\n",
              "      fill: #1967D2;\n",
              "      height: 32px;\n",
              "      padding: 0 0 0 0;\n",
              "      width: 32px;\n",
              "    }\n",
              "\n",
              "    .colab-df-convert:hover {\n",
              "      background-color: #E2EBFA;\n",
              "      box-shadow: 0px 1px 2px rgba(60, 64, 67, 0.3), 0px 1px 3px 1px rgba(60, 64, 67, 0.15);\n",
              "      fill: #174EA6;\n",
              "    }\n",
              "\n",
              "    [theme=dark] .colab-df-convert {\n",
              "      background-color: #3B4455;\n",
              "      fill: #D2E3FC;\n",
              "    }\n",
              "\n",
              "    [theme=dark] .colab-df-convert:hover {\n",
              "      background-color: #434B5C;\n",
              "      box-shadow: 0px 1px 3px 1px rgba(0, 0, 0, 0.15);\n",
              "      filter: drop-shadow(0px 1px 2px rgba(0, 0, 0, 0.3));\n",
              "      fill: #FFFFFF;\n",
              "    }\n",
              "  </style>\n",
              "\n",
              "      <script>\n",
              "        const buttonEl =\n",
              "          document.querySelector('#df-088bcebd-2a8f-4580-8105-6361d8cd4fdd button.colab-df-convert');\n",
              "        buttonEl.style.display =\n",
              "          google.colab.kernel.accessAllowed ? 'block' : 'none';\n",
              "\n",
              "        async function convertToInteractive(key) {\n",
              "          const element = document.querySelector('#df-088bcebd-2a8f-4580-8105-6361d8cd4fdd');\n",
              "          const dataTable =\n",
              "            await google.colab.kernel.invokeFunction('convertToInteractive',\n",
              "                                                     [key], {});\n",
              "          if (!dataTable) return;\n",
              "\n",
              "          const docLinkHtml = 'Like what you see? Visit the ' +\n",
              "            '<a target=\"_blank\" href=https://colab.research.google.com/notebooks/data_table.ipynb>data table notebook</a>'\n",
              "            + ' to learn more about interactive tables.';\n",
              "          element.innerHTML = '';\n",
              "          dataTable['output_type'] = 'display_data';\n",
              "          await google.colab.output.renderOutput(dataTable, element);\n",
              "          const docLink = document.createElement('div');\n",
              "          docLink.innerHTML = docLinkHtml;\n",
              "          element.appendChild(docLink);\n",
              "        }\n",
              "      </script>\n",
              "    </div>\n",
              "  </div>\n",
              "  "
            ]
          },
          "metadata": {},
          "execution_count": 5
        }
      ]
    },
    {
      "cell_type": "code",
      "source": [
        "for index, row in tdf.iterrows():\n",
        "  row[\"pool\"] = row[\"pool\"][\"id\"]\n",
        "  row[\"token0\"] = row[\"token0\"][\"id\"]\n",
        "  row[\"token1\"] = row[\"token1\"][\"id\"]\n",
        "  row[\"tickLower\"] = row[\"tickLower\"][\"id\"]\n",
        "  row[\"tickUpper\"] = row[\"tickUpper\"][\"id\"]\n",
        "  row[\"transaction\"] = row[\"transaction\"][\"id\"]"
      ],
      "metadata": {
        "id": "uNyrFoYtbomW"
      },
      "execution_count": null,
      "outputs": []
    },
    {
      "cell_type": "code",
      "source": [
        "tdf.info()"
      ],
      "metadata": {
        "colab": {
          "base_uri": "https://localhost:8080/"
        },
        "id": "66P15NyqbqNt",
        "outputId": "8b425c64-b684-44ba-8b82-78550232440f"
      },
      "execution_count": null,
      "outputs": [
        {
          "output_type": "stream",
          "name": "stdout",
          "text": [
            "<class 'pandas.core.frame.DataFrame'>\n",
            "Int64Index: 5000 entries, 0 to 99\n",
            "Data columns (total 17 columns):\n",
            " #   Column                    Non-Null Count  Dtype \n",
            "---  ------                    --------------  ----- \n",
            " 0   id                        5000 non-null   object\n",
            " 1   owner                     5000 non-null   object\n",
            " 2   pool                      5000 non-null   object\n",
            " 3   token0                    5000 non-null   object\n",
            " 4   token1                    5000 non-null   object\n",
            " 5   tickLower                 5000 non-null   object\n",
            " 6   tickUpper                 5000 non-null   object\n",
            " 7   liquidity                 5000 non-null   object\n",
            " 8   depositedToken0           5000 non-null   object\n",
            " 9   depositedToken1           5000 non-null   object\n",
            " 10  withdrawnToken0           5000 non-null   object\n",
            " 11  withdrawnToken1           5000 non-null   object\n",
            " 12  collectedFeesToken0       5000 non-null   object\n",
            " 13  collectedFeesToken1       5000 non-null   object\n",
            " 14  transaction               5000 non-null   object\n",
            " 15  feeGrowthInside0LastX128  5000 non-null   object\n",
            " 16  feeGrowthInside1LastX128  5000 non-null   object\n",
            "dtypes: object(17)\n",
            "memory usage: 703.1+ KB\n"
          ]
        }
      ]
    },
    {
      "cell_type": "code",
      "source": [],
      "metadata": {
        "id": "qom_fMH1dl6y"
      },
      "execution_count": null,
      "outputs": []
    },
    {
      "cell_type": "code",
      "source": [
        "tdf.to_csv('Positions.csv',index=False)"
      ],
      "metadata": {
        "id": "HidksGzVbrlm"
      },
      "execution_count": null,
      "outputs": []
    },
    {
      "cell_type": "code",
      "source": [],
      "metadata": {
        "id": "M_berl__dpjZ"
      },
      "execution_count": null,
      "outputs": []
    }
  ]
}